{
 "cells": [
  {
   "cell_type": "markdown",
   "metadata": {},
   "source": [
    "<h1>Reddit project: Classifying r/conspiracy and r/news</h1>"
   ]
  },
  {
   "cell_type": "markdown",
   "metadata": {},
   "source": [
    "The following project seeks to classify comments from the r/news and r/conspiracy subreddits. For more information, please see the project README in this notebook's parent directory."
   ]
  },
  {
   "cell_type": "code",
   "execution_count": 1,
   "metadata": {},
   "outputs": [],
   "source": [
    "import pandas as pd\n",
    "import numpy as np\n",
    "import seaborn as sns\n",
    "import matplotlib.pyplot as plt\n",
    "from nltk.stem import WordNetLemmatizer\n",
    "from nltk.tokenize import sent_tokenize, word_tokenize\n",
    "from nltk.tokenize import RegexpTokenizer\n",
    "import re\n",
    "from nltk.stem import WordNetLemmatizer\n",
    "from nltk.corpus import stopwords\n",
    "from sklearn.model_selection import train_test_split\n",
    "from sklearn.linear_model import LogisticRegression\n",
    "from sklearn.feature_extraction.text import CountVectorizer, TfidfVectorizer\n",
    "from scipy import sparse\n",
    "from sklearn.tree import DecisionTreeClassifier, plot_tree, export_text\n",
    "from sklearn.model_selection import train_test_split, GridSearchCV\n",
    "from sklearn.metrics import confusion_matrix, plot_confusion_matrix\n",
    "import matplotlib.pyplot as plt\n",
    "from sklearn.ensemble import RandomForestClassifier, ExtraTreesClassifier\n",
    "from sklearn.model_selection import cross_val_score, train_test_split, GridSearchCV\n",
    "from sklearn.preprocessing import StandardScaler\n",
    "from sklearn.svm import LinearSVC, SVC\n",
    "from sklearn.metrics import accuracy_score\n",
    "from sklearn.pipeline import Pipeline\n",
    "from sklearn.feature_selection import SelectFromModel\n",
    "from sklearn.naive_bayes import BernoulliNB, MultinomialNB, GaussianNB, CategoricalNB\n",
    "from sklearn.neighbors import KNeighborsClassifier"
   ]
  },
  {
   "cell_type": "markdown",
   "metadata": {},
   "source": [
    "read in both of the reddit csv files, one for each subreddit"
   ]
  },
  {
   "cell_type": "code",
   "execution_count": 2,
   "metadata": {},
   "outputs": [],
   "source": [
    "news = pd.read_csv('./news.csv')\n",
    "consp = pd.read_csv('./conspiracy.csv')"
   ]
  },
  {
   "cell_type": "code",
   "execution_count": 3,
   "metadata": {},
   "outputs": [
    {
     "data": {
      "text/plain": [
       "(20601, 4)"
      ]
     },
     "execution_count": 3,
     "metadata": {},
     "output_type": "execute_result"
    }
   ],
   "source": [
    "news.shape"
   ]
  },
  {
   "cell_type": "code",
   "execution_count": 4,
   "metadata": {},
   "outputs": [
    {
     "data": {
      "text/plain": [
       "(22281, 4)"
      ]
     },
     "execution_count": 4,
     "metadata": {},
     "output_type": "execute_result"
    }
   ],
   "source": [
    "consp.shape"
   ]
  },
  {
   "cell_type": "code",
   "execution_count": 5,
   "metadata": {},
   "outputs": [
    {
     "data": {
      "text/html": [
       "<div>\n",
       "<style scoped>\n",
       "    .dataframe tbody tr th:only-of-type {\n",
       "        vertical-align: middle;\n",
       "    }\n",
       "\n",
       "    .dataframe tbody tr th {\n",
       "        vertical-align: top;\n",
       "    }\n",
       "\n",
       "    .dataframe thead th {\n",
       "        text-align: right;\n",
       "    }\n",
       "</style>\n",
       "<table border=\"1\" class=\"dataframe\">\n",
       "  <thead>\n",
       "    <tr style=\"text-align: right;\">\n",
       "      <th></th>\n",
       "      <th>author</th>\n",
       "      <th>created_utc</th>\n",
       "      <th>post</th>\n",
       "      <th>subreddit</th>\n",
       "    </tr>\n",
       "  </thead>\n",
       "  <tbody>\n",
       "    <tr>\n",
       "      <th>0</th>\n",
       "      <td>egalroc</td>\n",
       "      <td>1600303999</td>\n",
       "      <td>At this point all Trump supporters are Russian...</td>\n",
       "      <td>news</td>\n",
       "    </tr>\n",
       "    <tr>\n",
       "      <th>1</th>\n",
       "      <td>Crooked16th</td>\n",
       "      <td>1600303997</td>\n",
       "      <td>https://www.theguardian.com/world/2020/sep/15/...</td>\n",
       "      <td>news</td>\n",
       "    </tr>\n",
       "    <tr>\n",
       "      <th>2</th>\n",
       "      <td>Kinolee</td>\n",
       "      <td>1600303996</td>\n",
       "      <td>&amp;gt; the people getting clean\\n\\nMost likely n...</td>\n",
       "      <td>news</td>\n",
       "    </tr>\n",
       "    <tr>\n",
       "      <th>3</th>\n",
       "      <td>cakevictim</td>\n",
       "      <td>1600303996</td>\n",
       "      <td>This is definitely not the time to have that t...</td>\n",
       "      <td>news</td>\n",
       "    </tr>\n",
       "    <tr>\n",
       "      <th>4</th>\n",
       "      <td>oooortclouuud</td>\n",
       "      <td>1600303991</td>\n",
       "      <td>once in the title, once in the article. your s...</td>\n",
       "      <td>news</td>\n",
       "    </tr>\n",
       "  </tbody>\n",
       "</table>\n",
       "</div>"
      ],
      "text/plain": [
       "          author  created_utc  \\\n",
       "0        egalroc   1600303999   \n",
       "1    Crooked16th   1600303997   \n",
       "2        Kinolee   1600303996   \n",
       "3     cakevictim   1600303996   \n",
       "4  oooortclouuud   1600303991   \n",
       "\n",
       "                                                post subreddit  \n",
       "0  At this point all Trump supporters are Russian...      news  \n",
       "1  https://www.theguardian.com/world/2020/sep/15/...      news  \n",
       "2  &gt; the people getting clean\\n\\nMost likely n...      news  \n",
       "3  This is definitely not the time to have that t...      news  \n",
       "4  once in the title, once in the article. your s...      news  "
      ]
     },
     "execution_count": 5,
     "metadata": {},
     "output_type": "execute_result"
    }
   ],
   "source": [
    "news.head()"
   ]
  },
  {
   "cell_type": "code",
   "execution_count": 6,
   "metadata": {},
   "outputs": [
    {
     "data": {
      "text/html": [
       "<div>\n",
       "<style scoped>\n",
       "    .dataframe tbody tr th:only-of-type {\n",
       "        vertical-align: middle;\n",
       "    }\n",
       "\n",
       "    .dataframe tbody tr th {\n",
       "        vertical-align: top;\n",
       "    }\n",
       "\n",
       "    .dataframe thead th {\n",
       "        text-align: right;\n",
       "    }\n",
       "</style>\n",
       "<table border=\"1\" class=\"dataframe\">\n",
       "  <thead>\n",
       "    <tr style=\"text-align: right;\">\n",
       "      <th></th>\n",
       "      <th>author</th>\n",
       "      <th>created_utc</th>\n",
       "      <th>post</th>\n",
       "      <th>subreddit</th>\n",
       "    </tr>\n",
       "  </thead>\n",
       "  <tbody>\n",
       "    <tr>\n",
       "      <th>0</th>\n",
       "      <td>Rusure111111</td>\n",
       "      <td>1600303937</td>\n",
       "      <td>thats what happens when you sell your soul</td>\n",
       "      <td>conspiracy</td>\n",
       "    </tr>\n",
       "    <tr>\n",
       "      <th>1</th>\n",
       "      <td>ZweiDunkleJungen</td>\n",
       "      <td>1600303934</td>\n",
       "      <td>Well they certainly aren't scared a green part...</td>\n",
       "      <td>conspiracy</td>\n",
       "    </tr>\n",
       "    <tr>\n",
       "      <th>2</th>\n",
       "      <td>brevz123</td>\n",
       "      <td>1600303934</td>\n",
       "      <td>https://youtu.be/DgsQelXM-go?t=388\\n\\nLOL i'm ...</td>\n",
       "      <td>conspiracy</td>\n",
       "    </tr>\n",
       "    <tr>\n",
       "      <th>3</th>\n",
       "      <td>e-Pat</td>\n",
       "      <td>1600303933</td>\n",
       "      <td>Let me correct your title: \\n\"The people defen...</td>\n",
       "      <td>conspiracy</td>\n",
       "    </tr>\n",
       "    <tr>\n",
       "      <th>4</th>\n",
       "      <td>Foxopotamus</td>\n",
       "      <td>1600303923</td>\n",
       "      <td>I watched a really good “documentary,” for lac...</td>\n",
       "      <td>conspiracy</td>\n",
       "    </tr>\n",
       "  </tbody>\n",
       "</table>\n",
       "</div>"
      ],
      "text/plain": [
       "             author  created_utc  \\\n",
       "0      Rusure111111   1600303937   \n",
       "1  ZweiDunkleJungen   1600303934   \n",
       "2          brevz123   1600303934   \n",
       "3             e-Pat   1600303933   \n",
       "4       Foxopotamus   1600303923   \n",
       "\n",
       "                                                post   subreddit  \n",
       "0         thats what happens when you sell your soul  conspiracy  \n",
       "1  Well they certainly aren't scared a green part...  conspiracy  \n",
       "2  https://youtu.be/DgsQelXM-go?t=388\\n\\nLOL i'm ...  conspiracy  \n",
       "3  Let me correct your title: \\n\"The people defen...  conspiracy  \n",
       "4  I watched a really good “documentary,” for lac...  conspiracy  "
      ]
     },
     "execution_count": 6,
     "metadata": {},
     "output_type": "execute_result"
    }
   ],
   "source": [
    "consp.head()"
   ]
  },
  {
   "cell_type": "code",
   "execution_count": 7,
   "metadata": {},
   "outputs": [],
   "source": [
    "df = pd.concat([news, consp], axis=0, ignore_index=True)"
   ]
  },
  {
   "cell_type": "code",
   "execution_count": 8,
   "metadata": {},
   "outputs": [
    {
     "data": {
      "text/plain": [
       "(42882, 4)"
      ]
     },
     "execution_count": 8,
     "metadata": {},
     "output_type": "execute_result"
    }
   ],
   "source": [
    "df.shape"
   ]
  },
  {
   "cell_type": "markdown",
   "metadata": {},
   "source": [
    "Subreddit changed to binary 1:news 0:conspiracy"
   ]
  },
  {
   "cell_type": "code",
   "execution_count": 9,
   "metadata": {},
   "outputs": [],
   "source": [
    "df.subreddit = df.subreddit.map({'conspiracy':0, 'news':1})"
   ]
  },
  {
   "cell_type": "code",
   "execution_count": 10,
   "metadata": {},
   "outputs": [
    {
     "data": {
      "text/html": [
       "<div>\n",
       "<style scoped>\n",
       "    .dataframe tbody tr th:only-of-type {\n",
       "        vertical-align: middle;\n",
       "    }\n",
       "\n",
       "    .dataframe tbody tr th {\n",
       "        vertical-align: top;\n",
       "    }\n",
       "\n",
       "    .dataframe thead th {\n",
       "        text-align: right;\n",
       "    }\n",
       "</style>\n",
       "<table border=\"1\" class=\"dataframe\">\n",
       "  <thead>\n",
       "    <tr style=\"text-align: right;\">\n",
       "      <th></th>\n",
       "      <th>author</th>\n",
       "      <th>created_utc</th>\n",
       "      <th>post</th>\n",
       "      <th>subreddit</th>\n",
       "    </tr>\n",
       "  </thead>\n",
       "  <tbody>\n",
       "    <tr>\n",
       "      <th>0</th>\n",
       "      <td>egalroc</td>\n",
       "      <td>1600303999</td>\n",
       "      <td>At this point all Trump supporters are Russian...</td>\n",
       "      <td>1</td>\n",
       "    </tr>\n",
       "    <tr>\n",
       "      <th>1</th>\n",
       "      <td>Crooked16th</td>\n",
       "      <td>1600303997</td>\n",
       "      <td>https://www.theguardian.com/world/2020/sep/15/...</td>\n",
       "      <td>1</td>\n",
       "    </tr>\n",
       "    <tr>\n",
       "      <th>2</th>\n",
       "      <td>Kinolee</td>\n",
       "      <td>1600303996</td>\n",
       "      <td>&amp;gt; the people getting clean\\n\\nMost likely n...</td>\n",
       "      <td>1</td>\n",
       "    </tr>\n",
       "    <tr>\n",
       "      <th>3</th>\n",
       "      <td>cakevictim</td>\n",
       "      <td>1600303996</td>\n",
       "      <td>This is definitely not the time to have that t...</td>\n",
       "      <td>1</td>\n",
       "    </tr>\n",
       "    <tr>\n",
       "      <th>4</th>\n",
       "      <td>oooortclouuud</td>\n",
       "      <td>1600303991</td>\n",
       "      <td>once in the title, once in the article. your s...</td>\n",
       "      <td>1</td>\n",
       "    </tr>\n",
       "  </tbody>\n",
       "</table>\n",
       "</div>"
      ],
      "text/plain": [
       "          author  created_utc  \\\n",
       "0        egalroc   1600303999   \n",
       "1    Crooked16th   1600303997   \n",
       "2        Kinolee   1600303996   \n",
       "3     cakevictim   1600303996   \n",
       "4  oooortclouuud   1600303991   \n",
       "\n",
       "                                                post  subreddit  \n",
       "0  At this point all Trump supporters are Russian...          1  \n",
       "1  https://www.theguardian.com/world/2020/sep/15/...          1  \n",
       "2  &gt; the people getting clean\\n\\nMost likely n...          1  \n",
       "3  This is definitely not the time to have that t...          1  \n",
       "4  once in the title, once in the article. your s...          1  "
      ]
     },
     "execution_count": 10,
     "metadata": {},
     "output_type": "execute_result"
    }
   ],
   "source": [
    "df.head()"
   ]
  },
  {
   "cell_type": "code",
   "execution_count": 11,
   "metadata": {},
   "outputs": [
    {
     "data": {
      "text/plain": [
       "False    42881\n",
       "True         1\n",
       "dtype: int64"
      ]
     },
     "execution_count": 11,
     "metadata": {},
     "output_type": "execute_result"
    }
   ],
   "source": [
    "df.duplicated(subset=None, keep='first').value_counts()\n",
    "#checking for duplicates"
   ]
  },
  {
   "cell_type": "code",
   "execution_count": 12,
   "metadata": {},
   "outputs": [],
   "source": [
    "df.drop_duplicates(inplace=True)\n",
    "#for some reason there is one duplicate item. We'll go ahead and drop it."
   ]
  },
  {
   "cell_type": "code",
   "execution_count": 13,
   "metadata": {},
   "outputs": [
    {
     "data": {
      "text/plain": [
       "author                author              \n",
       "FeniZio94             FeniZio94               162\n",
       "MakeItRainSheckels    MakeItRainSheckels      139\n",
       "ifhysm                ifhysm                  127\n",
       "SchwarzerKaffee       SchwarzerKaffee         109\n",
       "RussianBalconySafety  RussianBalconySafety    109\n",
       "                                             ... \n",
       "Siretruck             Siretruck                 1\n",
       "SireRequiem           SireRequiem               1\n",
       "Sirbesto              Sirbesto                  1\n",
       "Sir_Vexer             Sir_Vexer                 1\n",
       "zzorga                zzorga                    1\n",
       "Name: author, Length: 16464, dtype: int64"
      ]
     },
     "execution_count": 13,
     "metadata": {},
     "output_type": "execute_result"
    }
   ],
   "source": [
    "df.groupby('author')['author'].value_counts().sort_values(ascending=False)\n",
    "#checking to see the distribution of authors"
   ]
  },
  {
   "cell_type": "code",
   "execution_count": 14,
   "metadata": {},
   "outputs": [
    {
     "name": "stdout",
     "output_type": "stream",
     "text": [
      "['i', 'me', 'my', 'myself', 'we', 'our', 'ours', 'ourselves', 'you', \"you're\", \"you've\", \"you'll\", \"you'd\", 'your', 'yours', 'yourself', 'yourselves', 'he', 'him', 'his', 'himself', 'she', \"she's\", 'her', 'hers', 'herself', 'it', \"it's\", 'its', 'itself', 'they', 'them', 'their', 'theirs', 'themselves', 'what', 'which', 'who', 'whom', 'this', 'that', \"that'll\", 'these', 'those', 'am', 'is', 'are', 'was', 'were', 'be', 'been', 'being', 'have', 'has', 'had', 'having', 'do', 'does', 'did', 'doing', 'a', 'an', 'the', 'and', 'but', 'if', 'or', 'because', 'as', 'until', 'while', 'of', 'at', 'by', 'for', 'with', 'about', 'against', 'between', 'into', 'through', 'during', 'before', 'after', 'above', 'below', 'to', 'from', 'up', 'down', 'in', 'out', 'on', 'off', 'over', 'under', 'again', 'further', 'then', 'once', 'here', 'there', 'when', 'where', 'why', 'how', 'all', 'any', 'both', 'each', 'few', 'more', 'most', 'other', 'some', 'such', 'no', 'nor', 'not', 'only', 'own', 'same', 'so', 'than', 'too', 'very', 's', 't', 'can', 'will', 'just', 'don', \"don't\", 'should', \"should've\", 'now', 'd', 'll', 'm', 'o', 're', 've', 'y', 'ain', 'aren', \"aren't\", 'couldn', \"couldn't\", 'didn', \"didn't\", 'doesn', \"doesn't\", 'hadn', \"hadn't\", 'hasn', \"hasn't\", 'haven', \"haven't\", 'isn', \"isn't\", 'ma', 'mightn', \"mightn't\", 'mustn', \"mustn't\", 'needn', \"needn't\", 'shan', \"shan't\", 'shouldn', \"shouldn't\", 'wasn', \"wasn't\", 'weren', \"weren't\", 'won', \"won't\", 'wouldn', \"wouldn't\"]\n"
     ]
    }
   ],
   "source": [
    "# Print English stopwords.\n",
    "print(stopwords.words(\"english\"))"
   ]
  },
  {
   "cell_type": "code",
   "execution_count": 15,
   "metadata": {},
   "outputs": [
    {
     "data": {
      "text/html": [
       "<div>\n",
       "<style scoped>\n",
       "    .dataframe tbody tr th:only-of-type {\n",
       "        vertical-align: middle;\n",
       "    }\n",
       "\n",
       "    .dataframe tbody tr th {\n",
       "        vertical-align: top;\n",
       "    }\n",
       "\n",
       "    .dataframe thead th {\n",
       "        text-align: right;\n",
       "    }\n",
       "</style>\n",
       "<table border=\"1\" class=\"dataframe\">\n",
       "  <thead>\n",
       "    <tr style=\"text-align: right;\">\n",
       "      <th></th>\n",
       "      <th>author</th>\n",
       "      <th>created_utc</th>\n",
       "      <th>post</th>\n",
       "      <th>subreddit</th>\n",
       "    </tr>\n",
       "  </thead>\n",
       "  <tbody>\n",
       "    <tr>\n",
       "      <th>0</th>\n",
       "      <td>egalroc</td>\n",
       "      <td>1600303999</td>\n",
       "      <td>At this point all Trump supporters are Russian...</td>\n",
       "      <td>1</td>\n",
       "    </tr>\n",
       "    <tr>\n",
       "      <th>1</th>\n",
       "      <td>Crooked16th</td>\n",
       "      <td>1600303997</td>\n",
       "      <td>https://www.theguardian.com/world/2020/sep/15/...</td>\n",
       "      <td>1</td>\n",
       "    </tr>\n",
       "    <tr>\n",
       "      <th>2</th>\n",
       "      <td>Kinolee</td>\n",
       "      <td>1600303996</td>\n",
       "      <td>&amp;gt; the people getting clean\\n\\nMost likely n...</td>\n",
       "      <td>1</td>\n",
       "    </tr>\n",
       "    <tr>\n",
       "      <th>3</th>\n",
       "      <td>cakevictim</td>\n",
       "      <td>1600303996</td>\n",
       "      <td>This is definitely not the time to have that t...</td>\n",
       "      <td>1</td>\n",
       "    </tr>\n",
       "    <tr>\n",
       "      <th>4</th>\n",
       "      <td>oooortclouuud</td>\n",
       "      <td>1600303991</td>\n",
       "      <td>once in the title, once in the article. your s...</td>\n",
       "      <td>1</td>\n",
       "    </tr>\n",
       "  </tbody>\n",
       "</table>\n",
       "</div>"
      ],
      "text/plain": [
       "          author  created_utc  \\\n",
       "0        egalroc   1600303999   \n",
       "1    Crooked16th   1600303997   \n",
       "2        Kinolee   1600303996   \n",
       "3     cakevictim   1600303996   \n",
       "4  oooortclouuud   1600303991   \n",
       "\n",
       "                                                post  subreddit  \n",
       "0  At this point all Trump supporters are Russian...          1  \n",
       "1  https://www.theguardian.com/world/2020/sep/15/...          1  \n",
       "2  &gt; the people getting clean\\n\\nMost likely n...          1  \n",
       "3  This is definitely not the time to have that t...          1  \n",
       "4  once in the title, once in the article. your s...          1  "
      ]
     },
     "execution_count": 15,
     "metadata": {},
     "output_type": "execute_result"
    }
   ],
   "source": [
    "df.head()"
   ]
  },
  {
   "cell_type": "markdown",
   "metadata": {},
   "source": [
    "<h1>Filtering functions to prepare data for modeling</h1>"
   ]
  },
  {
   "cell_type": "code",
   "execution_count": 16,
   "metadata": {},
   "outputs": [],
   "source": [
    "stop_words = stopwords.words(\"english\")\n",
    "new_words = ['youd', 'im', 'ive', 'weve', 'aint', 'ain\\'t', \"i'm\", \"i'll\", \"they've\", \"it'll\", \"can't\", \"we've\",\n",
    "             \"that's\", \"there's\", \"don't\", \"might've\", \"they're\", \"i've\", \"he's\", \"she's\", \"i've\", 'news', 'conspiracy']\n",
    "for i in new_words:\n",
    "    stop_words.append(i)"
   ]
  },
  {
   "cell_type": "code",
   "execution_count": 17,
   "metadata": {},
   "outputs": [
    {
     "name": "stderr",
     "output_type": "stream",
     "text": [
      "C:\\Users\\Athos\\Anaconda3\\lib\\site-packages\\pandas\\core\\indexing.py:671: SettingWithCopyWarning: \n",
      "A value is trying to be set on a copy of a slice from a DataFrame\n",
      "\n",
      "See the caveats in the documentation: https://pandas.pydata.org/pandas-docs/stable/user_guide/indexing.html#returning-a-view-versus-a-copy\n",
      "  self._setitem_with_indexer(indexer, value)\n"
     ]
    }
   ],
   "source": [
    "def prepare_posts(df):\n",
    "    lemmatizer = WordNetLemmatizer()\n",
    "    \n",
    "    #capital letters tallied\n",
    "    df[\"cl_count\"]  = df.apply(lambda x: sum([1 for i in x.post if i.isupper()]), axis=1) \n",
    "    #all capital letters converted to lowercase\n",
    "    df.post = df.post.str.lower() \n",
    "    #creation of new filtered column in dataframe to put clean text\n",
    "    df['filtered'] = df['post']\n",
    "    #exclamation point count\n",
    "    df[\"exc_count\"]  = df.apply(lambda x: sum([1 for i in x.post if i == \"!\"]), axis=1) \n",
    "    #question marks tallied\n",
    "    df[\"qm_count\"]  =  df.apply(lambda x: sum([1 for i in x.post if i == \"?\"]), axis=1)\n",
    "    #character count of posts\n",
    "    df[\"char_count\"]  = df.apply(lambda x: len(x.post), axis=1)\n",
    "    #word count of posts\n",
    "    df[\"word_count\"]  = df.apply(lambda x: len(x.post.split()), axis=1)\n",
    "    #Url count within posts\n",
    "    df[\"url_count\"]  = df.apply(lambda x: len(re.findall(r'http\\S+|www.\\S+', x.post)), axis=1)\n",
    "    #amount of numbers appearing in posts\n",
    "    df[\"number_count\"] = df.apply(lambda x: len(re.findall(r'\\d*\\.\\d+|\\d+', x.post)), axis=1)\n",
    "    #apostrophe s count in posts\n",
    "    df['apos_s_count'] = df.apply(lambda x: len(re.findall(\"'s\", x.post)), axis=1)\n",
    "    #count of elongated vowels like aaaaaaaaaaa eeeeeeeee etc\n",
    "    df['elongated_vowels'] = df.apply(lambda x: len(re.findall(\"uuu+|aaa+|iii|eee+|ooo+\", x.post)), axis=1)\n",
    "    #tally of question words in post\n",
    "    df[\"q_word_count\"] = df.apply(lambda x: len(re.findall('who', x.post)) + len(re.findall('what', x.post)) + len(re.findall('when', x.post)) + len(re.findall('why', x.post)) + len(re.findall('where', x.post)) + len(re.findall('how', x.post)), axis=1)\n",
    "    #removes non-english characters\n",
    "    df['filtered'] = df.apply(lambda x: x.post.encode(\"ascii\", \"ignore\").decode(), axis=1)\n",
    "    #removes html\n",
    "    df['filtered'] = df['filtered'].replace(to_replace=r'http\\S+|www.\\S+',value='',regex=True)\n",
    "    #number of times the word percent occurs or the % symbol occurs \n",
    "    df[\"percent_count\"] = df.apply(lambda x: len(re.findall('percent', x.post)) + len(re.findall('%', x.post)), axis=1)\n",
    "    #replace elongated vowels with shorter version in hopes of getting more accurate word vowel counts\n",
    "    alphabet = ['a', 'b', 'c', 'd', 'e', 'f', 'g', 'h', 'i', 'j', 'k', 'l', 'm', 'n', 'o', 'p', 'q', 'r', 's', 't', 'u', 'v', 'w', 'x', 'y', 'z']\n",
    "    for i in alphabet:\n",
    "        df['filtered'] = df['filtered'].replace(f'{i}{i}{i}+', f'{i}', regex=True)\n",
    "#     df['filtered'] = df['filtered'].replace(\"eee+\", \"e\", regex=True)\n",
    "#     df['filtered'] = df['filtered'].replace(\"iii+\", \"i\", regex=True)\n",
    "#     df['filtered'] = df['filtered'].replace(\"ooo+\", \"o\", regex=True)\n",
    "#     df['filtered'] = df['filtered'].replace(\"uuu+\", \"u\", regex=True)\n",
    "    df['filtered'] = df['filtered'].replace('&gt;', ' ', regex=True) #replaces greater than sign\n",
    "    df['filtered'] = df['filtered'].replace('&lt;', ' ', regex=True) #replaces less than sign\n",
    "    df['filtered'] = df['filtered'].replace('\\n\\n', ' ', regex=True) #replaces \\n\\n\n",
    "    df['filtered'] = df['filtered'].replace('[.,?!$%*&_+^\\|)(\\[:\\];]', ' ', regex=True) #replaces punctuation and random characters\n",
    "    df['filtered'] = df['filtered'].replace('\\d', ' ', regex=True) #removes numbers\n",
    "    df['filtered'] = df['filtered'].replace('[’”“]', \"'\", regex=True) #removes curly 's\n",
    "    df['filtered'] = df['filtered'].replace(\"'s\", \"\", regex=True) #removes apostrophe + s\n",
    "    df['filtered'] = df['filtered'].replace(\"'\", \"\", regex=True) #removes apostrophe\n",
    "    df['filtered'] = df['filtered'].replace('\\s-+', ' ', regex=True) #removes - but not from compound-words\n",
    "    df['filtered'] = df['filtered'].replace('~+', ' ', regex=True) #replaces ~\n",
    "    df['filtered'] = df['filtered'].replace('\"', ' ', regex=True) #replaces \"s\n",
    "    df['filtered'] = df['filtered'].replace('\\\\+|/+', ' ', regex=True) #replaces /s and \\s with space to separate a/b/c into a b c \n",
    "    for i in range(0,df.shape[0]):\n",
    "        post = df['filtered'].iloc[i].split()\n",
    "        meaningful_words = [i for i in post if not i in stop_words] #remove stop words\n",
    "        lemma = [lemmatizer.lemmatize(i) for i in meaningful_words] #lemmatize words\n",
    "        df['filtered'].iloc[i] = (\" \".join(lemma))\n",
    "\n",
    "prepare_posts(df)\n",
    "prepare_posts(news)\n",
    "prepare_posts(consp)"
   ]
  },
  {
   "cell_type": "code",
   "execution_count": 18,
   "metadata": {},
   "outputs": [
    {
     "name": "stdout",
     "output_type": "stream",
     "text": [
      "point trump supporter russian asset also youre cop still support donald bad apple\n",
      "go dip shit\n",
      "people getting clean likely kind rehab considering number death sure general health rehab drug rehab old sick patient\n",
      "definitely time traditional wedding\n",
      "title article statement wildly exaggerated\n",
      "would need go hassle make second rubber stamp judge name print go along signature stamp\n",
      "hope one closure yelp\n",
      "call two mile bridge\n",
      "thing-which-must-not-be-named\n",
      "dont think thought fine think gamble like live die evacuate percent lose stuff think knew high risk probably couldnt bear leave end despite evacuation prep stayed took odds people possible recover losing everything fire would rather die gonna guess couple one couldnt leave everything behind one could hence prep change heart stay take chance\n",
      "way definitively link wedding sorry\n",
      "post credible link\n",
      "need start publicly shaming people shit honestly wedding reception mr mr name directly linked death people didnt attend let see bastard still disregard guideline theyre forever shamed court public opinion special fucking day\n",
      "job enforce law cant stand idly people blocking bridge glueing building yes group glue building boat etc lol\n",
      "arm race always end well\n",
      "large conference room could separate group people\n",
      "say would attend didnt make difference\n",
      "snake shot slithery bois capable killed doesnt make apex apex predator mean youre capable hunted another specie youre immortal specie\n",
      "oh definitely reminds podcast enjoyed ended way soon one reporter new york time podcast called rabbit hole talked guy used alt-right ceo youtube even ex supporter qanon really interesting hear algorithm youtube us people used involved group ill definitely properly watch video linked\n",
      "talking interlinked economy general insulting someone end statement doesnt help attention reply sayin\n"
     ]
    }
   ],
   "source": [
    "for i in df.iloc[0:20]['filtered']:\n",
    "    print(i)"
   ]
  },
  {
   "cell_type": "code",
   "execution_count": 19,
   "metadata": {},
   "outputs": [],
   "source": [
    "X = df.filtered\n",
    "y = df.subreddit"
   ]
  },
  {
   "cell_type": "code",
   "execution_count": 20,
   "metadata": {},
   "outputs": [],
   "source": [
    "X_train, X_test, y_train, y_test = train_test_split(X, y, stratify=y)"
   ]
  },
  {
   "cell_type": "code",
   "execution_count": 21,
   "metadata": {},
   "outputs": [],
   "source": [
    "vectorizer = CountVectorizer(analyzer = \"word\",\n",
    "                            ngram_range=(1,1),\n",
    "                            stop_words='english')"
   ]
  },
  {
   "cell_type": "markdown",
   "metadata": {},
   "source": [
    "ngram_range of 1,4 was too much...no improvement seen and almost 1,000,000 columns"
   ]
  },
  {
   "cell_type": "code",
   "execution_count": 22,
   "metadata": {},
   "outputs": [],
   "source": [
    "X_train = vectorizer.fit_transform(X_train)\n",
    "X_test = vectorizer.transform(X_test)"
   ]
  },
  {
   "cell_type": "code",
   "execution_count": 23,
   "metadata": {},
   "outputs": [
    {
     "data": {
      "text/plain": [
       "(32160, 28441)"
      ]
     },
     "execution_count": 23,
     "metadata": {},
     "output_type": "execute_result"
    }
   ],
   "source": [
    "X_train.shape"
   ]
  },
  {
   "cell_type": "code",
   "execution_count": 24,
   "metadata": {},
   "outputs": [
    {
     "data": {
      "text/plain": [
       "(10721, 28441)"
      ]
     },
     "execution_count": 24,
     "metadata": {},
     "output_type": "execute_result"
    }
   ],
   "source": [
    "X_test.shape"
   ]
  },
  {
   "cell_type": "markdown",
   "metadata": {},
   "source": [
    "<h1>Baseline model</h1>"
   ]
  },
  {
   "cell_type": "code",
   "execution_count": 25,
   "metadata": {},
   "outputs": [
    {
     "data": {
      "text/plain": [
       "0    51.96\n",
       "1    48.04\n",
       "Name: subreddit, dtype: float64"
      ]
     },
     "execution_count": 25,
     "metadata": {},
     "output_type": "execute_result"
    }
   ],
   "source": [
    "y_test.value_counts(normalize=True).mul(100).round(2)\n",
    "#Baseline accuracy"
   ]
  },
  {
   "cell_type": "code",
   "execution_count": 26,
   "metadata": {},
   "outputs": [
    {
     "data": {
      "text/plain": [
       "0.8754975124378109"
      ]
     },
     "execution_count": 26,
     "metadata": {},
     "output_type": "execute_result"
    }
   ],
   "source": [
    "# Instantiate logistic regression model.\n",
    "lr = LogisticRegression(max_iter=10000, random_state=42)\n",
    "\n",
    "# Fit model to training data.\n",
    "lr.fit(X_train, y_train)\n",
    "\n",
    "# Evaluate model on training data.\n",
    "lr.score(X_train, y_train)"
   ]
  },
  {
   "cell_type": "code",
   "execution_count": 27,
   "metadata": {},
   "outputs": [
    {
     "data": {
      "text/plain": [
       "0.7274507975002332"
      ]
     },
     "execution_count": 27,
     "metadata": {},
     "output_type": "execute_result"
    }
   ],
   "source": [
    "lr.score(X_test, y_test)"
   ]
  },
  {
   "cell_type": "markdown",
   "metadata": {},
   "source": [
    "baseline with tfidf vectorizer instead of count vectorizer"
   ]
  },
  {
   "cell_type": "code",
   "execution_count": 28,
   "metadata": {},
   "outputs": [
    {
     "name": "stdout",
     "output_type": "stream",
     "text": [
      "Training score: 0.9343594527363184\n",
      "Testing score: 0.7308086932189162\n"
     ]
    }
   ],
   "source": [
    "X = df['filtered']\n",
    "y = df['subreddit']\n",
    "X_train, X_test, y_train, y_test = train_test_split(X, y, stratify=y, random_state=42)\n",
    "vectorizer = TfidfVectorizer(analyzer = \"word\", ngram_range=(1,3), stop_words='english')\n",
    "X_train = vectorizer.fit_transform(X_train)\n",
    "X_test = vectorizer.transform(X_test)\n",
    "\n",
    "\n",
    "lr1 = LogisticRegression(max_iter=10000, random_state=42, n_jobs=-1)\n",
    "lr1.fit(X_train, y_train)\n",
    "print(f'Training score: {lr1.score(X_train, y_train)}')\n",
    "print(f'Testing score: {lr1.score(X_test, y_test)}')\n"
   ]
  },
  {
   "cell_type": "code",
   "execution_count": 29,
   "metadata": {},
   "outputs": [
    {
     "name": "stdout",
     "output_type": "stream",
     "text": [
      "Training score: 0.9859141791044777\n",
      "Testing score: 0.7561794608711874\n"
     ]
    }
   ],
   "source": [
    "mnb = MultinomialNB(alpha=.4, fit_prior=False)\n",
    "mnb.fit(X_train, y_train)\n",
    "print(f'Training score: {mnb.score(X_train, y_train)}')\n",
    "print(f'Testing score: {mnb.score(X_test, y_test)}')"
   ]
  },
  {
   "cell_type": "markdown",
   "metadata": {},
   "source": [
    "<h1>With feature engineered columns</h1>"
   ]
  },
  {
   "cell_type": "code",
   "execution_count": 25,
   "metadata": {},
   "outputs": [],
   "source": [
    "features = ['filtered', 'cl_count', 'exc_count', 'qm_count', 'char_count', 'word_count', 'url_count', 'apos_s_count', \n",
    "'elongated_vowels', 'percent_count', 'q_word_count', 'number_count']\n",
    "#All features\n",
    "\n",
    "num_features = ['cl_count', 'exc_count', 'qm_count', 'char_count', 'word_count', 'url_count', 'apos_s_count', \n",
    "'elongated_vowels', 'percent_count', 'q_word_count', 'number_count']\n",
    "#Just those I engineered"
   ]
  },
  {
   "cell_type": "code",
   "execution_count": 31,
   "metadata": {},
   "outputs": [
    {
     "name": "stdout",
     "output_type": "stream",
     "text": [
      "Training score: 0.9163246268656716\n",
      "Testing score: 0.7339800391754501\n"
     ]
    }
   ],
   "source": [
    "X = df[features]\n",
    "y = df['subreddit']\n",
    "X_train, X_test, y_train, y_test = train_test_split(X, y, stratify=y, random_state=42)\n",
    "vectorizer = TfidfVectorizer(analyzer = \"word\", ngram_range=(1,3), stop_words='english')\n",
    "X_train_words = vectorizer.fit_transform(X_train['filtered'])\n",
    "X_test_words = vectorizer.transform(X_test['filtered'])\n",
    "\n",
    "# ss = StandardScaler()\n",
    "# train_num_feats = ss.fit_transform(X_train[num_features].values)\n",
    "# test_num_feats = ss.transform(X_test[num_features].values)\n",
    "\n",
    "# train_num_feats = np.log1p(X_train[num_features].values)\n",
    "# test_num_feats = np.log1p(X_test[num_features].values)\n",
    "\n",
    "train_num_feats = X_train[num_features].values\n",
    "test_num_feats = X_test[num_features].values\n",
    "\n",
    "X_train = sparse.hstack((X_train_words, train_num_feats))\n",
    "X_test = sparse.hstack((X_test_words, test_num_feats))\n",
    "\n",
    "lr1 = LogisticRegression(max_iter=10000, random_state=42, n_jobs=-1)\n",
    "lr1.fit(X_train, y_train)\n",
    "print(f'Training score: {lr1.score(X_train, y_train)}')\n",
    "print(f'Testing score: {lr1.score(X_test, y_test)}')\n"
   ]
  },
  {
   "cell_type": "markdown",
   "metadata": {},
   "source": [
    "Taking the log of features (which as seen in EDA below have a lot of right skew) did not seem to improve the predictive power of these features."
   ]
  },
  {
   "cell_type": "code",
   "execution_count": 32,
   "metadata": {},
   "outputs": [
    {
     "name": "stdout",
     "output_type": "stream",
     "text": [
      "Training score: 0.921455223880597\n",
      "Testing score: 0.7309952429810652\n"
     ]
    }
   ],
   "source": [
    "X = df[features]\n",
    "y = df['subreddit']\n",
    "X_train, X_test, y_train, y_test = train_test_split(X, y, stratify=y, random_state=42)\n",
    "vectorizer = TfidfVectorizer(analyzer = \"word\", ngram_range=(1,3), stop_words='english', max_df=0.4)\n",
    "X_train_words = vectorizer.fit_transform(X_train['filtered'])\n",
    "X_test_words = vectorizer.transform(X_test['filtered'])\n",
    "\n",
    "# ss = StandardScaler()\n",
    "# train_num_feats = ss.fit_transform(X_train[num_features].values)\n",
    "# test_num_feats = ss.transform(X_test[num_features].values)\n",
    "\n",
    "train_num_feats = np.log1p(X_train[num_features].values)\n",
    "test_num_feats = np.log1p(X_test[num_features].values)\n",
    "\n",
    "# train_num_feats = X_train[num_features].values\n",
    "# test_num_feats = X_test[num_features].values\n",
    "\n",
    "X_train = sparse.hstack((X_train_words, train_num_feats))\n",
    "X_test = sparse.hstack((X_test_words, test_num_feats))\n",
    "\n",
    "lr = LogisticRegression(max_iter=10000, random_state=42, n_jobs=-1)\n",
    "lr.fit(X_train, y_train)\n",
    "print(f'Training score: {lr.score(X_train, y_train)}')\n",
    "print(f'Testing score: {lr.score(X_test, y_test)}')"
   ]
  },
  {
   "cell_type": "markdown",
   "metadata": {},
   "source": [
    "Multinomial Naive Bayes with feature engineered columns"
   ]
  },
  {
   "cell_type": "code",
   "execution_count": 33,
   "metadata": {},
   "outputs": [
    {
     "name": "stdout",
     "output_type": "stream",
     "text": [
      "Training score: 0.9843283582089553\n",
      "Testing score: 0.7522619158660573\n"
     ]
    }
   ],
   "source": [
    "mnb = MultinomialNB(alpha=.4, fit_prior=False)\n",
    "mnb.fit(X_train, y_train)\n",
    "print(f'Training score: {mnb.score(X_train, y_train)}')\n",
    "print(f'Testing score: {mnb.score(X_test, y_test)}')"
   ]
  },
  {
   "cell_type": "markdown",
   "metadata": {},
   "source": [
    "<h2>Best Model</h2>"
   ]
  },
  {
   "cell_type": "markdown",
   "metadata": {},
   "source": [
    "Multinomial Naive Bayes without feature columns"
   ]
  },
  {
   "cell_type": "code",
   "execution_count": 34,
   "metadata": {},
   "outputs": [
    {
     "name": "stdout",
     "output_type": "stream",
     "text": [
      "Training score: 0.9899564676616915\n",
      "Testing score: 0.7594440817087958\n"
     ]
    }
   ],
   "source": [
    "X = df['filtered']\n",
    "y = df['subreddit']\n",
    "X_train, X_test, y_train, y_test = train_test_split(X, y, stratify=y, random_state=42)\n",
    "index = [i for i in X_test.index]\n",
    "vectorizer = TfidfVectorizer(analyzer = \"word\", ngram_range=(1,3), stop_words=None, max_df=0.15, norm='l2')\n",
    "X_train = vectorizer.fit_transform(X_train)\n",
    "X_test = vectorizer.transform(X_test)\n",
    "\n",
    "# ss = StandardScaler()\n",
    "# train_num_feats = ss.fit_transform(X_train[num_features].values)\n",
    "# test_num_feats = ss.transform(X_test[num_features].values)\n",
    "\n",
    "mnb = MultinomialNB(alpha=.36, fit_prior=False)\n",
    "mnb.fit(X_train, y_train)\n",
    "print(f'Training score: {mnb.score(X_train, y_train)}')\n",
    "print(f'Testing score: {mnb.score(X_test, y_test)}')"
   ]
  },
  {
   "cell_type": "code",
   "execution_count": 35,
   "metadata": {},
   "outputs": [
    {
     "data": {
      "text/plain": [
       "0.7512437810945274"
      ]
     },
     "execution_count": 35,
     "metadata": {},
     "output_type": "execute_result"
    }
   ],
   "source": [
    "cross_val_score(mnb, X_train, y_train, cv=5,  n_jobs=-1).mean()"
   ]
  },
  {
   "cell_type": "code",
   "execution_count": 36,
   "metadata": {},
   "outputs": [
    {
     "data": {
      "text/plain": [
       "950100"
      ]
     },
     "execution_count": 36,
     "metadata": {},
     "output_type": "execute_result"
    }
   ],
   "source": [
    "len(vectorizer.get_feature_names())"
   ]
  },
  {
   "cell_type": "code",
   "execution_count": 37,
   "metadata": {},
   "outputs": [],
   "source": [
    "pred_proba = mnb.predict_proba(X_test)"
   ]
  },
  {
   "cell_type": "code",
   "execution_count": 38,
   "metadata": {},
   "outputs": [
    {
     "data": {
      "text/plain": [
       "array([[0.56835935, 0.43164065],\n",
       "       [0.67984801, 0.32015199],\n",
       "       [0.32166876, 0.67833124],\n",
       "       ...,\n",
       "       [0.39955912, 0.60044088],\n",
       "       [0.38435071, 0.61564929],\n",
       "       [0.687601  , 0.312399  ]])"
      ]
     },
     "execution_count": 38,
     "metadata": {},
     "output_type": "execute_result"
    }
   ],
   "source": [
    "pred_proba"
   ]
  },
  {
   "cell_type": "code",
   "execution_count": 39,
   "metadata": {},
   "outputs": [],
   "source": [
    "y_preds = mnb.predict(X_test)"
   ]
  },
  {
   "cell_type": "code",
   "execution_count": 40,
   "metadata": {},
   "outputs": [],
   "source": [
    "test_df = df[df.index.isin(index)]"
   ]
  },
  {
   "cell_type": "markdown",
   "metadata": {},
   "source": [
    "Exploration of decisions made by model"
   ]
  },
  {
   "cell_type": "code",
   "execution_count": 41,
   "metadata": {},
   "outputs": [
    {
     "name": "stderr",
     "output_type": "stream",
     "text": [
      "<ipython-input-41-4ddcd8e4e459>:1: SettingWithCopyWarning: \n",
      "A value is trying to be set on a copy of a slice from a DataFrame.\n",
      "Try using .loc[row_indexer,col_indexer] = value instead\n",
      "\n",
      "See the caveats in the documentation: https://pandas.pydata.org/pandas-docs/stable/user_guide/indexing.html#returning-a-view-versus-a-copy\n",
      "  test_df['y_preds'] = y_preds\n",
      "<ipython-input-41-4ddcd8e4e459>:2: SettingWithCopyWarning: \n",
      "A value is trying to be set on a copy of a slice from a DataFrame.\n",
      "Try using .loc[row_indexer,col_indexer] = value instead\n",
      "\n",
      "See the caveats in the documentation: https://pandas.pydata.org/pandas-docs/stable/user_guide/indexing.html#returning-a-view-versus-a-copy\n",
      "  test_df['pred_proba'] = [i[0] for i in pred_proba]\n"
     ]
    },
    {
     "data": {
      "text/html": [
       "<div>\n",
       "<style scoped>\n",
       "    .dataframe tbody tr th:only-of-type {\n",
       "        vertical-align: middle;\n",
       "    }\n",
       "\n",
       "    .dataframe tbody tr th {\n",
       "        vertical-align: top;\n",
       "    }\n",
       "\n",
       "    .dataframe thead th {\n",
       "        text-align: right;\n",
       "    }\n",
       "</style>\n",
       "<table border=\"1\" class=\"dataframe\">\n",
       "  <thead>\n",
       "    <tr style=\"text-align: right;\">\n",
       "      <th></th>\n",
       "      <th>post</th>\n",
       "      <th>subreddit</th>\n",
       "      <th>y_preds</th>\n",
       "      <th>pred_proba</th>\n",
       "    </tr>\n",
       "  </thead>\n",
       "  <tbody>\n",
       "    <tr>\n",
       "      <th>20610</th>\n",
       "      <td>full quote from article\\n&amp;gt;we have clear sci...</td>\n",
       "      <td>0</td>\n",
       "      <td>1</td>\n",
       "      <td>0.315254</td>\n",
       "    </tr>\n",
       "    <tr>\n",
       "      <th>20625</th>\n",
       "      <td>iran and turkey have had dews for some time. i...</td>\n",
       "      <td>0</td>\n",
       "      <td>1</td>\n",
       "      <td>0.470881</td>\n",
       "    </tr>\n",
       "    <tr>\n",
       "      <th>20626</th>\n",
       "      <td>there’s a difference between having a policy a...</td>\n",
       "      <td>0</td>\n",
       "      <td>1</td>\n",
       "      <td>0.259081</td>\n",
       "    </tr>\n",
       "    <tr>\n",
       "      <th>20641</th>\n",
       "      <td>huh, i thought libertarians spent most of thei...</td>\n",
       "      <td>0</td>\n",
       "      <td>1</td>\n",
       "      <td>0.398217</td>\n",
       "    </tr>\n",
       "    <tr>\n",
       "      <th>20654</th>\n",
       "      <td>thank you for this very informative historical...</td>\n",
       "      <td>0</td>\n",
       "      <td>1</td>\n",
       "      <td>0.050312</td>\n",
       "    </tr>\n",
       "  </tbody>\n",
       "</table>\n",
       "</div>"
      ],
      "text/plain": [
       "                                                    post  subreddit  y_preds  \\\n",
       "20610  full quote from article\\n&gt;we have clear sci...          0        1   \n",
       "20625  iran and turkey have had dews for some time. i...          0        1   \n",
       "20626  there’s a difference between having a policy a...          0        1   \n",
       "20641  huh, i thought libertarians spent most of thei...          0        1   \n",
       "20654  thank you for this very informative historical...          0        1   \n",
       "\n",
       "       pred_proba  \n",
       "20610    0.315254  \n",
       "20625    0.470881  \n",
       "20626    0.259081  \n",
       "20641    0.398217  \n",
       "20654    0.050312  "
      ]
     },
     "execution_count": 41,
     "metadata": {},
     "output_type": "execute_result"
    }
   ],
   "source": [
    "test_df['y_preds'] = y_preds\n",
    "test_df['pred_proba'] = [i[0] for i in pred_proba]\n",
    "# test_df[['post', 'subreddit', 'y_preds']].head(30)\n",
    "test_df[test_df['y_preds'] > test_df['subreddit']][['post', 'subreddit', 'y_preds', 'pred_proba']].head()"
   ]
  },
  {
   "cell_type": "code",
   "execution_count": 42,
   "metadata": {},
   "outputs": [
    {
     "data": {
      "text/plain": [
       "count    2630.000000\n",
       "mean       36.382129\n",
       "std        61.085667\n",
       "min         1.000000\n",
       "25%         9.000000\n",
       "50%        20.000000\n",
       "75%        41.000000\n",
       "max      1198.000000\n",
       "Name: word_count, dtype: float64"
      ]
     },
     "execution_count": 42,
     "metadata": {},
     "output_type": "execute_result"
    }
   ],
   "source": [
    "test_df[test_df['y_preds'] > test_df['subreddit']]['word_count'].describe()"
   ]
  },
  {
   "cell_type": "code",
   "execution_count": 43,
   "metadata": {},
   "outputs": [
    {
     "data": {
      "text/plain": [
       "count    2741.00000\n",
       "mean       41.15031\n",
       "std        73.18203\n",
       "min         1.00000\n",
       "25%        11.00000\n",
       "50%        23.00000\n",
       "75%        48.00000\n",
       "max      1589.00000\n",
       "Name: word_count, dtype: float64"
      ]
     },
     "execution_count": 43,
     "metadata": {},
     "output_type": "execute_result"
    }
   ],
   "source": [
    "test_df[test_df['y_preds'] < test_df['subreddit']]['word_count'].describe()"
   ]
  },
  {
   "cell_type": "code",
   "execution_count": 44,
   "metadata": {},
   "outputs": [
    {
     "data": {
      "text/plain": [
       "count    42881.000000\n",
       "mean        37.145146\n",
       "std         55.983657\n",
       "min          1.000000\n",
       "25%         10.000000\n",
       "50%         21.000000\n",
       "75%         43.000000\n",
       "max       1614.000000\n",
       "Name: word_count, dtype: float64"
      ]
     },
     "execution_count": 44,
     "metadata": {},
     "output_type": "execute_result"
    }
   ],
   "source": [
    "df.word_count.describe()"
   ]
  },
  {
   "cell_type": "code",
   "execution_count": 45,
   "metadata": {},
   "outputs": [
    {
     "data": {
      "text/plain": [
       "array([[-13.85514262, -13.84538637, -13.84538637, ..., -14.0075152 ,\n",
       "        -14.0075152 , -14.0075152 ],\n",
       "       [-13.41605454, -14.00771952, -14.00771952, ..., -13.34588946,\n",
       "        -13.56474908, -13.65845769]])"
      ]
     },
     "execution_count": 45,
     "metadata": {},
     "output_type": "execute_result"
    }
   ],
   "source": [
    "mnb.feature_log_prob_"
   ]
  },
  {
   "cell_type": "code",
   "execution_count": 46,
   "metadata": {},
   "outputs": [
    {
     "data": {
      "image/png": "[encoded data removed]",
      "text/plain": [
       "<Figure size 1080x720 with 2 Axes>"
      ]
     },
     "metadata": {
      "needs_background": "light"
     },
     "output_type": "display_data"
    }
   ],
   "source": [
    "cm = confusion_matrix(y_test, y_preds)\n",
    "\n",
    "cm_df = pd.DataFrame(cm, columns=['pred conspiracy', 'pred news'], \n",
    "                     index=['actual conspiracy', 'actual news'])\n",
    "\n",
    "plt.figure(figsize=(15,10))\n",
    "plt.title('Confusion Matrix for r/news r/conspiracy', fontweight='bold')\n",
    "sns.heatmap(pd.DataFrame(cm_df), annot=True, square=True, linewidth=0.5, \n",
    "            fmt='', center=0, cmap=\"Blues\",)\n",
    "plt.yticks(rotation=0);"
   ]
  },
  {
   "cell_type": "markdown",
   "metadata": {},
   "source": [
    "<h2>Gridsearching and pipelining to perfect best model</h2>"
   ]
  },
  {
   "cell_type": "code",
   "execution_count": 47,
   "metadata": {},
   "outputs": [
    {
     "name": "stdout",
     "output_type": "stream",
     "text": [
      "Fitting 5 folds for each of 12 candidates, totalling 60 fits\n"
     ]
    },
    {
     "name": "stderr",
     "output_type": "stream",
     "text": [
      "[Parallel(n_jobs=1)]: Using backend SequentialBackend with 1 concurrent workers.\n",
      "[Parallel(n_jobs=1)]: Done  60 out of  60 | elapsed:    5.7s finished\n"
     ]
    },
    {
     "data": {
      "text/plain": [
       "0.7514925373134329"
      ]
     },
     "execution_count": 47,
     "metadata": {},
     "output_type": "execute_result"
    }
   ],
   "source": [
    "params = {\n",
    "    'alpha': [0.1, 0.2, 0.3, 0.4, 0.5, 0.6],\n",
    "    'fit_prior': [True, False],\n",
    "    }\n",
    "\n",
    "grid = GridSearchCV(MultinomialNB(), \n",
    "                              params, #hyperparameters\n",
    "                              cv=5, #number of cross validation folds\n",
    "                              verbose=1) \n",
    "\n",
    "grid.fit(X_train, y_train)\n",
    "grid.best_score_"
   ]
  },
  {
   "cell_type": "markdown",
   "metadata": {},
   "source": [
    "Gridsearch and pipelining best params used above in final model"
   ]
  },
  {
   "cell_type": "code",
   "execution_count": 48,
   "metadata": {},
   "outputs": [
    {
     "name": "stderr",
     "output_type": "stream",
     "text": [
      "[Parallel(n_jobs=-1)]: Using backend LokyBackend with 8 concurrent workers.\n"
     ]
    },
    {
     "name": "stdout",
     "output_type": "stream",
     "text": [
      "Fitting 5 folds for each of 30 candidates, totalling 150 fits\n"
     ]
    },
    {
     "name": "stderr",
     "output_type": "stream",
     "text": [
      "[Parallel(n_jobs=-1)]: Done  34 tasks      | elapsed:   44.3s\n",
      "[Parallel(n_jobs=-1)]: Done 150 out of 150 | elapsed:  2.7min finished\n"
     ]
    },
    {
     "data": {
      "text/plain": [
       "GridSearchCV(cv=5,\n",
       "             estimator=Pipeline(steps=[('TfidfVectorizer', TfidfVectorizer()),\n",
       "                                       ('MultinomialNB', MultinomialNB())]),\n",
       "             n_jobs=-1,\n",
       "             param_grid={'MultinomialNB__alpha': [0.33, 0.34, 0.345, 0.35,\n",
       "                                                  0.355, 0.36],\n",
       "                         'MultinomialNB__fit_prior': [False],\n",
       "                         'TfidfVectorizer__analyzer': ['word'],\n",
       "                         'TfidfVectorizer__binary': [False],\n",
       "                         'TfidfVectorizer__max_df': [0.145, 0.147, 0.149, 0.15,\n",
       "                                                     0.151],\n",
       "                         'TfidfVectorizer__ngram_range': [(1, 3)],\n",
       "                         'TfidfVectorizer__norm': ['l2'],\n",
       "                         'TfidfVectorizer__stop_words': [None]},\n",
       "             verbose=1)"
      ]
     },
     "execution_count": 48,
     "metadata": {},
     "output_type": "execute_result"
    }
   ],
   "source": [
    "X = df['filtered']\n",
    "y = df['subreddit']\n",
    "X_train, X_test, y_train, y_test = train_test_split(X, y, stratify=y, random_state=42)\n",
    "\n",
    "pipe = Pipeline([\n",
    "    ('TfidfVectorizer', TfidfVectorizer()),\n",
    "    ('MultinomialNB', MultinomialNB())\n",
    "])\n",
    "\n",
    "pipe_params = {'TfidfVectorizer__analyzer': ['word'], \n",
    "                 'TfidfVectorizer__stop_words': [None],\n",
    "                 'TfidfVectorizer__ngram_range': [(1,3)], \n",
    "                 'TfidfVectorizer__max_df': [0.145, 0.147, 0.149, 0.15, 0.151],\n",
    "                'TfidfVectorizer__binary': [False],\n",
    "                  'TfidfVectorizer__norm': ['l2'],\n",
    "                'MultinomialNB__alpha': [0.33, 0.34, 0.345, 0.35, 0.355, 0.36],\n",
    "               'MultinomialNB__fit_prior': [False]\n",
    "#                   'TfidfVectorizer__use_idf': [True],\n",
    "#                   'TfidfVectorizer__smooth_idf': [True],\n",
    "#                   'TfidfVectorizer__sublinear_tf': [False]\n",
    "              }\n",
    "\n",
    "pipe_grid = GridSearchCV(pipe, pipe_params, cv=5, verbose=1, n_jobs=-1)\n",
    "pipe_grid.fit(X_train, y_train)"
   ]
  },
  {
   "cell_type": "code",
   "execution_count": 49,
   "metadata": {},
   "outputs": [
    {
     "data": {
      "text/plain": [
       "{'MultinomialNB__alpha': 0.36,\n",
       " 'MultinomialNB__fit_prior': False,\n",
       " 'TfidfVectorizer__analyzer': 'word',\n",
       " 'TfidfVectorizer__binary': False,\n",
       " 'TfidfVectorizer__max_df': 0.15,\n",
       " 'TfidfVectorizer__ngram_range': (1, 3),\n",
       " 'TfidfVectorizer__norm': 'l2',\n",
       " 'TfidfVectorizer__stop_words': None}"
      ]
     },
     "execution_count": 49,
     "metadata": {},
     "output_type": "execute_result"
    }
   ],
   "source": [
    "pipe_grid.best_params_"
   ]
  },
  {
   "cell_type": "code",
   "execution_count": 50,
   "metadata": {},
   "outputs": [
    {
     "data": {
      "text/plain": [
       "0.7527985074626865"
      ]
     },
     "execution_count": 50,
     "metadata": {},
     "output_type": "execute_result"
    }
   ],
   "source": [
    "pipe_grid.best_score_"
   ]
  },
  {
   "cell_type": "code",
   "execution_count": 51,
   "metadata": {},
   "outputs": [
    {
     "name": "stdout",
     "output_type": "stream",
     "text": [
      "['zyklon gas fuck' 'go every field' 'really politics real' 'go event died'\n",
      " 'go event' 'really poor decision' 'go even obama' 'really prefer'\n",
      " 'really prefer cover' 'go etc saying']\n",
      "['logic also initial' 'left small crime' 'left slowly surely'\n",
      " 'left slowly' 'left slap wrist' 'left slap' 'left situation everything'\n",
      " 'left situation' 'left side arena' 'left shoulder']\n"
     ]
    }
   ],
   "source": [
    "neg_class_prob_sorted = mnb.feature_log_prob_[0, :].argsort()\n",
    "pos_class_prob_sorted = mnb.feature_log_prob_[1, :].argsort()\n",
    "\n",
    "print(np.take(vectorizer.get_feature_names(), neg_class_prob_sorted[:10]))\n",
    "print(np.take(vectorizer.get_feature_names(), pos_class_prob_sorted[:10]))"
   ]
  },
  {
   "cell_type": "markdown",
   "metadata": {},
   "source": [
    "<h1>EDA</h1>"
   ]
  },
  {
   "cell_type": "code",
   "execution_count": 52,
   "metadata": {},
   "outputs": [],
   "source": [
    "cv_news = CountVectorizer(analyzer = \"word\")\n",
    "news_words = cv_news.fit_transform(news.filtered)\n",
    "news = pd.DataFrame(news_words.todense(), columns=cv_news.get_feature_names())\n",
    "\n",
    "cv_consp = CountVectorizer(analyzer = \"word\")\n",
    "consp_words = cv_consp.fit_transform(consp.filtered)\n",
    "consp = pd.DataFrame(consp_words.todense(), columns=cv_consp.get_feature_names())"
   ]
  },
  {
   "cell_type": "code",
   "execution_count": 35,
   "metadata": {},
   "outputs": [
    {
     "data": {
      "text/plain": [
       "subreddit\n",
       "0     6208\n",
       "1    10385\n",
       "Name: author, dtype: int64"
      ]
     },
     "execution_count": 35,
     "metadata": {},
     "output_type": "execute_result"
    }
   ],
   "source": [
    "df.groupby('subreddit')['author'].nunique()"
   ]
  },
  {
   "cell_type": "code",
   "execution_count": 43,
   "metadata": {},
   "outputs": [
    {
     "data": {
      "text/plain": [
       "<matplotlib.axes._subplots.AxesSubplot at 0x1cf4cdc80a0>"
      ]
     },
     "execution_count": 43,
     "metadata": {},
     "output_type": "execute_result"
    },
    {
     "data": {
      "image/png": "[encoded data removed]",
      "text/plain": [
       "<Figure size 432x288 with 1 Axes>"
      ]
     },
     "metadata": {
      "needs_background": "light"
     },
     "output_type": "display_data"
    }
   ],
   "source": [
    "sns.distplot(df.groupby('author')['post'].count())"
   ]
  },
  {
   "cell_type": "code",
   "execution_count": 54,
   "metadata": {},
   "outputs": [],
   "source": [
    "news_authors = []\n",
    "consp_authors = []\n",
    "\n",
    "\n",
    "for i in range(0, df.shape[0]):\n",
    "    if df.iloc[i]['subreddit'] == 1:\n",
    "        if df.iloc[i]['author'] in news_authors:\n",
    "            pass\n",
    "        else:\n",
    "            news_authors.append(df.iloc[i]['author'])\n",
    "    else:\n",
    "        if df.iloc[i]['author'] in consp_authors:\n",
    "            pass\n",
    "        else:\n",
    "            consp_authors.append(df.iloc[i]['author'])"
   ]
  },
  {
   "cell_type": "code",
   "execution_count": 55,
   "metadata": {},
   "outputs": [
    {
     "data": {
      "text/plain": [
       "10385"
      ]
     },
     "execution_count": 55,
     "metadata": {},
     "output_type": "execute_result"
    }
   ],
   "source": [
    "len(news_authors)"
   ]
  },
  {
   "cell_type": "code",
   "execution_count": 56,
   "metadata": {},
   "outputs": [
    {
     "data": {
      "text/plain": [
       "6208"
      ]
     },
     "execution_count": 56,
     "metadata": {},
     "output_type": "execute_result"
    }
   ],
   "source": [
    "len(consp_authors)"
   ]
  },
  {
   "cell_type": "code",
   "execution_count": 63,
   "metadata": {},
   "outputs": [
    {
     "data": {
      "text/plain": [
       "258"
      ]
     },
     "execution_count": 63,
     "metadata": {},
     "output_type": "execute_result"
    }
   ],
   "source": [
    "for i in news_authors:\n",
    "    if i in consp_authors:\n",
    "        both.append(i)\n",
    "        \n",
    "len(both)"
   ]
  },
  {
   "cell_type": "code",
   "execution_count": 65,
   "metadata": {},
   "outputs": [
    {
     "data": {
      "text/plain": [
       "16335"
      ]
     },
     "execution_count": 65,
     "metadata": {},
     "output_type": "execute_result"
    }
   ],
   "source": [
    "len(consp_authors)+len(news_authors)-len(both)"
   ]
  },
  {
   "cell_type": "code",
   "execution_count": 53,
   "metadata": {},
   "outputs": [
    {
     "data": {
      "text/plain": [
       "['filtered',\n",
       " 'cl_count',\n",
       " 'exc_count',\n",
       " 'qm_count',\n",
       " 'char_count',\n",
       " 'word_count',\n",
       " 'url_count',\n",
       " 'apos_s_count',\n",
       " 'elongated_vowels',\n",
       " 'percent_count',\n",
       " 'q_word_count',\n",
       " 'number_count']"
      ]
     },
     "execution_count": 53,
     "metadata": {},
     "output_type": "execute_result"
    }
   ],
   "source": [
    "features"
   ]
  },
  {
   "cell_type": "code",
   "execution_count": 54,
   "metadata": {},
   "outputs": [
    {
     "data": {
      "text/plain": [
       "<matplotlib.axes._subplots.AxesSubplot at 0x22c2ad209a0>"
      ]
     },
     "execution_count": 54,
     "metadata": {},
     "output_type": "execute_result"
    },
    {
     "data": {
      "image/png": "[encoded data removed]",
      "text/plain": [
       "<Figure size 432x288 with 1 Axes>"
      ]
     },
     "metadata": {
      "needs_background": "light"
     },
     "output_type": "display_data"
    }
   ],
   "source": [
    "sns.distplot(np.log1p(df.cl_count))"
   ]
  },
  {
   "cell_type": "code",
   "execution_count": 55,
   "metadata": {},
   "outputs": [
    {
     "data": {
      "text/plain": [
       "792"
      ]
     },
     "execution_count": 55,
     "metadata": {},
     "output_type": "execute_result"
    }
   ],
   "source": [
    "df.cl_count.max()"
   ]
  },
  {
   "cell_type": "code",
   "execution_count": 56,
   "metadata": {},
   "outputs": [
    {
     "name": "stderr",
     "output_type": "stream",
     "text": [
      "C:\\Users\\Athos\\Anaconda3\\lib\\site-packages\\seaborn\\distributions.py:369: UserWarning: Default bandwidth for data is 0; skipping density estimation.\n",
      "  warnings.warn(msg, UserWarning)\n"
     ]
    },
    {
     "data": {
      "text/plain": [
       "<matplotlib.axes._subplots.AxesSubplot at 0x22c1d0533a0>"
      ]
     },
     "execution_count": 56,
     "metadata": {},
     "output_type": "execute_result"
    },
    {
     "data": {
      "image/png": "[encoded data removed]",
      "text/plain": [
       "<Figure size 432x288 with 1 Axes>"
      ]
     },
     "metadata": {
      "needs_background": "light"
     },
     "output_type": "display_data"
    }
   ],
   "source": [
    "sns.distplot(df.qm_count)"
   ]
  },
  {
   "cell_type": "code",
   "execution_count": 57,
   "metadata": {},
   "outputs": [
    {
     "data": {
      "text/plain": [
       "<matplotlib.axes._subplots.AxesSubplot at 0x22c1e0f90d0>"
      ]
     },
     "execution_count": 57,
     "metadata": {},
     "output_type": "execute_result"
    },
    {
     "data": {
      "image/png": "[encoded data removed]",
      "text/plain": [
       "<Figure size 432x288 with 1 Axes>"
      ]
     },
     "metadata": {
      "needs_background": "light"
     },
     "output_type": "display_data"
    }
   ],
   "source": [
    "sns.distplot(np.log1p(df.word_count))"
   ]
  },
  {
   "cell_type": "code",
   "execution_count": 58,
   "metadata": {},
   "outputs": [
    {
     "name": "stderr",
     "output_type": "stream",
     "text": [
      "C:\\Users\\Athos\\Anaconda3\\lib\\site-packages\\seaborn\\distributions.py:369: UserWarning: Default bandwidth for data is 0; skipping density estimation.\n",
      "  warnings.warn(msg, UserWarning)\n"
     ]
    },
    {
     "data": {
      "text/plain": [
       "<matplotlib.axes._subplots.AxesSubplot at 0x22c1d12df40>"
      ]
     },
     "execution_count": 58,
     "metadata": {},
     "output_type": "execute_result"
    },
    {
     "data": {
      "image/png": "[encoded data removed]",
      "text/plain": [
       "<Figure size 432x288 with 1 Axes>"
      ]
     },
     "metadata": {
      "needs_background": "light"
     },
     "output_type": "display_data"
    }
   ],
   "source": [
    "sns.distplot(np.log1p(df.url_count))"
   ]
  },
  {
   "cell_type": "code",
   "execution_count": 59,
   "metadata": {},
   "outputs": [
    {
     "data": {
      "text/plain": [
       "count    42881.000000\n",
       "mean         0.085959\n",
       "std          0.775396\n",
       "min          0.000000\n",
       "25%          0.000000\n",
       "50%          0.000000\n",
       "75%          0.000000\n",
       "max         55.000000\n",
       "Name: url_count, dtype: float64"
      ]
     },
     "execution_count": 59,
     "metadata": {},
     "output_type": "execute_result"
    }
   ],
   "source": [
    "df.url_count.describe()"
   ]
  },
  {
   "cell_type": "code",
   "execution_count": 60,
   "metadata": {},
   "outputs": [
    {
     "data": {
      "text/plain": [
       "['we all have eyes to see\\n\\nransacked target minneapolis\\n\\nhttps://streamable.com/b3u92p\\n\\n\\n\\nbuilding burning in minneapolis \\n\\nhttps://streamable.com/vh5nyu\\n\\n\\n\\nboy drove car into a store\\n\\nhttps://streamable.com/nrm2pn\\n\\n\\n\\npost office looted/destroyed https://streamable.com/v4vflf\\n\\n\\n\\nminneapolis third police precinct set on fire\\n\\nhttps://streamable.com/o27w75\\n\\n\\n\\nmore buildings on fire minneapolis\\n\\nhttps://streamable.com/8au2lf\\n\\n\\n\\nautoparts store getting destroyed/looted\\n\\nhttps://streamable.com/dum1r8\\n\\n\\n\\nautozone on fire\\n\\nhttps://streamable.com/vq9hrp\\n\\n\\n\\nlooting in minneapolis\\n\\nhttps://streamable.com/jfor5g\\n\\n\\n\\nadults loot with their children\\n\\nhttps://streamable.com/m4cr5j\\n\\n\\n\\ncars torched – minneapolis\\n\\nhttps://streamable.com/mmk9gr\\n\\n\\n\\nlooting an atm in minneapolis\\n\\nhttps://streamable.com/ht2oxv\\n\\n\\n\\nremains of destroyed/looted cub foods\\n\\nhttps://streamable.com/qhzlm7\\n\\n\\n\\nbusiness and stores on fire in minneapolis\\n\\nhttps://streamable.com/jcpdvv\\n\\n\\n\\nbrenda lenton’s home and belongings destroyed by a fire – minneapolis\\n\\nhttps://streamable.com/3s9l17\\n\\naftermath of whole neighborhood being set on fire in minneapolishttps://streamable.com/eat2c0\\n\\nnashville city hall set on fire while rioters cheerhttps://streamable.com/b3y0ep\\n\\nfox reporters chased out with projectiles thrown at them near white househttps://streamable.com/1qzyua\\n\\nattacking drivers tulsa, oklahttps://streamable.com/ixpxh9\\n\\nsetting st. john’s church on firehttps://streamable.com/u3y4ch\\n\\ndestroying/looting stores montrealhttps://streamable.com/92h4rr\\n\\ndestroying/looting store in downtown oaklandhttps://streamable.com/y9s4x9\\n\\nbar destroyed/trying to loot a safehttps://streamable.com/yzprm5\\n\\nstolen bulldozer in oaklandhttps://streamable.com/lhf5ze\\n\\ntwo police suvs torched in seattlehttps://streamable.com/eketpr\\n\\nmultiple cars torched in philadelphiahttps://streamable.com/13784m\\n\\nohio statehouse being destroyedhttps://streamable.com/k13b3l\\n\\ntrying to breach justice center/central police precinct portlandhttps://streamable.com/avcfq0\\n\\ndestroying/looting justice center portlandhttps://streamable.com/1j6fof\\n\\nlooting small business in portlandhttps://streamable.com/bfs08c\\n\\ndestroying/looting small business portlandhttps://streamable.com/adfxxt\\n\\nlooting louis vuitton storehttps://streamable.com/f4ysu9\\n\\ndriving stolen cars into stores – portlandhttps://streamable.com/o1w92j\\n\\ndestroying chase bank – portlandhttps://streamable.com/o1wtom\\n\\nsetting chase bank on fire – portlandhttps://streamable.com/nanakz\\n\\ndestroying/looting apple store – portlandhttps://streamable.com/2wncgk\\n\\nlooting in st. paulhttps://streamable.com/6fouwt\\n\\nlooting shoe storehttps://streamable.com/60v3xh\\n\\nlooting apple storehttps://streamable.com/1wzq39\\n\\nlooting north face store – nychttps://streamable.com/ux7djn\\n\\nnike store being looted – nychttps://streamable.com/6sdcb3\\n\\nlooting in union square – nychttps://streamable.com/jiz3zd\\n\\nlooting t-mobile storehttps://streamable.com/ag5kwc\\n\\nshop owner saves store from looters with a firearmhttps://streamable.com/5oj1jl\\n\\nbusiness owner defends his store from looters with a firearmhttps://streamable.com/pmdjk\\n\\n\\n\\nhttps://www.youtube.com/watch?v=qg9kqqo722e [embed]\\n\\n\\n\\nhttps://youtu.be/hf6mmcwc8gy?t=1944[embed]\\n\\n\\n\\nhttps://youtu.be/hf6mmcwc8gy?t=4349[embed]\\n\\n\\n\\nhttps://youtu.be/hf6mmcwc8gy?t=5077[embed]\\n\\n\\n\\nhttps://youtu.be/hf6mmcwc8gy?t=6961[embed]\\n\\n\\n\\nhttps://www.youtube.com/watch?v=-uqom94rjvc [embed]\\n\\n\\n\\nhttps://www.youtube.com/watch?v=jztbjmkrxgi\\n\\n\\n\\n\\n\\nhttps://www.youtube.com/watch?v=07mqx_zyxi8\\n\\n\\n\\n\\n\\nhttps://www.youtube.com/watch?v=xy6jysq2ism\\n\\n\\n\\n\\n\\nhttps://www.youtube.com/watch?v=7mhkvx6aa6s']"
      ]
     },
     "execution_count": 60,
     "metadata": {},
     "output_type": "execute_result"
    }
   ],
   "source": [
    "[i for i in df[df['url_count'] > 54]['post']]\n",
    "# looking to see what post could possibly have 55 urls in it"
   ]
  },
  {
   "cell_type": "code",
   "execution_count": 61,
   "metadata": {},
   "outputs": [
    {
     "data": {
      "text/html": [
       "<div>\n",
       "<style scoped>\n",
       "    .dataframe tbody tr th:only-of-type {\n",
       "        vertical-align: middle;\n",
       "    }\n",
       "\n",
       "    .dataframe tbody tr th {\n",
       "        vertical-align: top;\n",
       "    }\n",
       "\n",
       "    .dataframe thead th {\n",
       "        text-align: right;\n",
       "    }\n",
       "</style>\n",
       "<table border=\"1\" class=\"dataframe\">\n",
       "  <thead>\n",
       "    <tr style=\"text-align: right;\">\n",
       "      <th></th>\n",
       "      <th>author</th>\n",
       "      <th>created_utc</th>\n",
       "      <th>post</th>\n",
       "      <th>subreddit</th>\n",
       "      <th>cl_count</th>\n",
       "      <th>filtered</th>\n",
       "      <th>exc_count</th>\n",
       "      <th>qm_count</th>\n",
       "      <th>char_count</th>\n",
       "      <th>word_count</th>\n",
       "      <th>url_count</th>\n",
       "      <th>number_count</th>\n",
       "      <th>apos_s_count</th>\n",
       "      <th>elongated_vowels</th>\n",
       "      <th>q_word_count</th>\n",
       "      <th>percent_count</th>\n",
       "    </tr>\n",
       "  </thead>\n",
       "  <tbody>\n",
       "    <tr>\n",
       "      <th>2474</th>\n",
       "      <td>RedeemedVulture</td>\n",
       "      <td>1600297021</td>\n",
       "      <td>i posted this reply for the other guy. it fits...</td>\n",
       "      <td>1</td>\n",
       "      <td>196</td>\n",
       "      <td>posted reply guy fit question everyone faith b...</td>\n",
       "      <td>0</td>\n",
       "      <td>3</td>\n",
       "      <td>4481</td>\n",
       "      <td>516</td>\n",
       "      <td>20</td>\n",
       "      <td>33</td>\n",
       "      <td>3</td>\n",
       "      <td>0</td>\n",
       "      <td>9</td>\n",
       "      <td>1</td>\n",
       "    </tr>\n",
       "    <tr>\n",
       "      <th>2679</th>\n",
       "      <td>RedeemedVulture</td>\n",
       "      <td>1600296405</td>\n",
       "      <td>are you are defining \"rational\" as agreeing wi...</td>\n",
       "      <td>1</td>\n",
       "      <td>199</td>\n",
       "      <td>defining rational agreeing course bible writte...</td>\n",
       "      <td>0</td>\n",
       "      <td>4</td>\n",
       "      <td>4639</td>\n",
       "      <td>548</td>\n",
       "      <td>20</td>\n",
       "      <td>33</td>\n",
       "      <td>3</td>\n",
       "      <td>0</td>\n",
       "      <td>9</td>\n",
       "      <td>1</td>\n",
       "    </tr>\n",
       "    <tr>\n",
       "      <th>12077</th>\n",
       "      <td>ro_goose</td>\n",
       "      <td>1600270780</td>\n",
       "      <td>wait a minute... you think the defense product...</td>\n",
       "      <td>1</td>\n",
       "      <td>258</td>\n",
       "      <td>wait minute think defense production act invok...</td>\n",
       "      <td>0</td>\n",
       "      <td>6</td>\n",
       "      <td>5792</td>\n",
       "      <td>558</td>\n",
       "      <td>25</td>\n",
       "      <td>81</td>\n",
       "      <td>6</td>\n",
       "      <td>0</td>\n",
       "      <td>6</td>\n",
       "      <td>0</td>\n",
       "    </tr>\n",
       "    <tr>\n",
       "      <th>21542</th>\n",
       "      <td>DeadEndFred</td>\n",
       "      <td>1600299022</td>\n",
       "      <td>exactly. the rockefeller syndicate and their c...</td>\n",
       "      <td>0</td>\n",
       "      <td>85</td>\n",
       "      <td>exactly rockefeller syndicate cohort place cia...</td>\n",
       "      <td>0</td>\n",
       "      <td>2</td>\n",
       "      <td>2331</td>\n",
       "      <td>89</td>\n",
       "      <td>22</td>\n",
       "      <td>43</td>\n",
       "      <td>0</td>\n",
       "      <td>0</td>\n",
       "      <td>8</td>\n",
       "      <td>0</td>\n",
       "    </tr>\n",
       "    <tr>\n",
       "      <th>23250</th>\n",
       "      <td>Asshole411</td>\n",
       "      <td>1600291867</td>\n",
       "      <td>we all have eyes to see\\n\\nransacked target mi...</td>\n",
       "      <td>0</td>\n",
       "      <td>178</td>\n",
       "      <td>eye see ransacked target minneapolis building ...</td>\n",
       "      <td>0</td>\n",
       "      <td>10</td>\n",
       "      <td>3596</td>\n",
       "      <td>281</td>\n",
       "      <td>55</td>\n",
       "      <td>83</td>\n",
       "      <td>0</td>\n",
       "      <td>0</td>\n",
       "      <td>1</td>\n",
       "      <td>0</td>\n",
       "    </tr>\n",
       "    <tr>\n",
       "      <th>23906</th>\n",
       "      <td>Everythings</td>\n",
       "      <td>1600288866</td>\n",
       "      <td>\\n\\na doctor got a shock when in med school h...</td>\n",
       "      <td>0</td>\n",
       "      <td>792</td>\n",
       "      <td>doctor got shock med school read study mask we...</td>\n",
       "      <td>0</td>\n",
       "      <td>17</td>\n",
       "      <td>7003</td>\n",
       "      <td>681</td>\n",
       "      <td>17</td>\n",
       "      <td>255</td>\n",
       "      <td>0</td>\n",
       "      <td>0</td>\n",
       "      <td>3</td>\n",
       "      <td>4</td>\n",
       "    </tr>\n",
       "    <tr>\n",
       "      <th>24423</th>\n",
       "      <td>Everythings</td>\n",
       "      <td>1600286419</td>\n",
       "      <td>[https://www.reddit.com/r/conspiracy/comments/...</td>\n",
       "      <td>0</td>\n",
       "      <td>194</td>\n",
       "      <td>amp #x b amp #x b norwegian institute public h...</td>\n",
       "      <td>0</td>\n",
       "      <td>26</td>\n",
       "      <td>8261</td>\n",
       "      <td>716</td>\n",
       "      <td>15</td>\n",
       "      <td>94</td>\n",
       "      <td>1</td>\n",
       "      <td>0</td>\n",
       "      <td>6</td>\n",
       "      <td>0</td>\n",
       "    </tr>\n",
       "    <tr>\n",
       "      <th>24862</th>\n",
       "      <td>Bobby-Vinson</td>\n",
       "      <td>1600284660</td>\n",
       "      <td>&amp;gt;“here is wisdom. let him that bath underst...</td>\n",
       "      <td>0</td>\n",
       "      <td>143</td>\n",
       "      <td>wisdom let bath understanding count number bea...</td>\n",
       "      <td>0</td>\n",
       "      <td>1</td>\n",
       "      <td>2906</td>\n",
       "      <td>283</td>\n",
       "      <td>13</td>\n",
       "      <td>23</td>\n",
       "      <td>0</td>\n",
       "      <td>7</td>\n",
       "      <td>3</td>\n",
       "      <td>0</td>\n",
       "    </tr>\n",
       "    <tr>\n",
       "      <th>25249</th>\n",
       "      <td>Asshole411</td>\n",
       "      <td>1600282952</td>\n",
       "      <td>&amp;gt;fearing antifa earns you a membership\\nto ...</td>\n",
       "      <td>0</td>\n",
       "      <td>116</td>\n",
       "      <td>fearing antifa earns membership short bus seat...</td>\n",
       "      <td>0</td>\n",
       "      <td>16</td>\n",
       "      <td>5313</td>\n",
       "      <td>514</td>\n",
       "      <td>18</td>\n",
       "      <td>47</td>\n",
       "      <td>1</td>\n",
       "      <td>0</td>\n",
       "      <td>3</td>\n",
       "      <td>1</td>\n",
       "    </tr>\n",
       "    <tr>\n",
       "      <th>26147</th>\n",
       "      <td>Asshole411</td>\n",
       "      <td>1600279066</td>\n",
       "      <td>blame antifa for other stuff, like violence\\n\\...</td>\n",
       "      <td>0</td>\n",
       "      <td>104</td>\n",
       "      <td>blame antifa stuff like violence msnbc reporte...</td>\n",
       "      <td>1</td>\n",
       "      <td>28</td>\n",
       "      <td>4831</td>\n",
       "      <td>349</td>\n",
       "      <td>27</td>\n",
       "      <td>58</td>\n",
       "      <td>4</td>\n",
       "      <td>0</td>\n",
       "      <td>2</td>\n",
       "      <td>0</td>\n",
       "    </tr>\n",
       "    <tr>\n",
       "      <th>26288</th>\n",
       "      <td>Asshole411</td>\n",
       "      <td>1600278560</td>\n",
       "      <td>\"the protests are peaceful\"\\n\\n\\n\\n\\n\\n\\nhttps...</td>\n",
       "      <td>0</td>\n",
       "      <td>56</td>\n",
       "      <td>protest peaceful man stomped stoned trying def...</td>\n",
       "      <td>0</td>\n",
       "      <td>0</td>\n",
       "      <td>2576</td>\n",
       "      <td>260</td>\n",
       "      <td>37</td>\n",
       "      <td>49</td>\n",
       "      <td>0</td>\n",
       "      <td>0</td>\n",
       "      <td>2</td>\n",
       "      <td>0</td>\n",
       "    </tr>\n",
       "    <tr>\n",
       "      <th>26818</th>\n",
       "      <td>ijustwantedtopostthi</td>\n",
       "      <td>1600276491</td>\n",
       "      <td>actually, if i recall correctly, it may be mad...</td>\n",
       "      <td>0</td>\n",
       "      <td>51</td>\n",
       "      <td>actually recall correctly may made toxic mater...</td>\n",
       "      <td>0</td>\n",
       "      <td>0</td>\n",
       "      <td>4496</td>\n",
       "      <td>557</td>\n",
       "      <td>15</td>\n",
       "      <td>34</td>\n",
       "      <td>1</td>\n",
       "      <td>0</td>\n",
       "      <td>7</td>\n",
       "      <td>2</td>\n",
       "    </tr>\n",
       "    <tr>\n",
       "      <th>29097</th>\n",
       "      <td>goldenspirals111</td>\n",
       "      <td>1600268153</td>\n",
       "      <td>except this time there are witnesses, videos, ...</td>\n",
       "      <td>0</td>\n",
       "      <td>164</td>\n",
       "      <td>except time witness video arrest showing arson...</td>\n",
       "      <td>0</td>\n",
       "      <td>1</td>\n",
       "      <td>1974</td>\n",
       "      <td>141</td>\n",
       "      <td>41</td>\n",
       "      <td>37</td>\n",
       "      <td>0</td>\n",
       "      <td>0</td>\n",
       "      <td>1</td>\n",
       "      <td>0</td>\n",
       "    </tr>\n",
       "    <tr>\n",
       "      <th>29163</th>\n",
       "      <td>Sea_Crew</td>\n",
       "      <td>1600267913</td>\n",
       "      <td>man this sub is so anti-semitic.\\n \\nlet me ed...</td>\n",
       "      <td>0</td>\n",
       "      <td>102</td>\n",
       "      <td>man sub anti-semitic let educate people colleg...</td>\n",
       "      <td>0</td>\n",
       "      <td>0</td>\n",
       "      <td>4922</td>\n",
       "      <td>592</td>\n",
       "      <td>17</td>\n",
       "      <td>23</td>\n",
       "      <td>2</td>\n",
       "      <td>0</td>\n",
       "      <td>12</td>\n",
       "      <td>1</td>\n",
       "    </tr>\n",
       "    <tr>\n",
       "      <th>30658</th>\n",
       "      <td>RainbowKillBot</td>\n",
       "      <td>1600261735</td>\n",
       "      <td>directly clicking these links don't work here ...</td>\n",
       "      <td>0</td>\n",
       "      <td>164</td>\n",
       "      <td>directly clicking link dont work reason copy p...</td>\n",
       "      <td>0</td>\n",
       "      <td>1</td>\n",
       "      <td>1838</td>\n",
       "      <td>141</td>\n",
       "      <td>40</td>\n",
       "      <td>38</td>\n",
       "      <td>0</td>\n",
       "      <td>0</td>\n",
       "      <td>0</td>\n",
       "      <td>0</td>\n",
       "    </tr>\n",
       "    <tr>\n",
       "      <th>32114</th>\n",
       "      <td>DeanG1</td>\n",
       "      <td>1600248677</td>\n",
       "      <td>(i’ve put all below in a separate post also)\\n...</td>\n",
       "      <td>0</td>\n",
       "      <td>402</td>\n",
       "      <td>put separate post also continuation th october...</td>\n",
       "      <td>0</td>\n",
       "      <td>2</td>\n",
       "      <td>5469</td>\n",
       "      <td>864</td>\n",
       "      <td>18</td>\n",
       "      <td>177</td>\n",
       "      <td>0</td>\n",
       "      <td>0</td>\n",
       "      <td>9</td>\n",
       "      <td>0</td>\n",
       "    </tr>\n",
       "    <tr>\n",
       "      <th>35869</th>\n",
       "      <td>RainbowKillBot</td>\n",
       "      <td>1600221761</td>\n",
       "      <td>jedidiah fulton, 39 [https://archive.is/gwlyq]...</td>\n",
       "      <td>0</td>\n",
       "      <td>162</td>\n",
       "      <td>jedidiah fulton alberto vincent acosta kevin c...</td>\n",
       "      <td>0</td>\n",
       "      <td>1</td>\n",
       "      <td>1747</td>\n",
       "      <td>126</td>\n",
       "      <td>40</td>\n",
       "      <td>38</td>\n",
       "      <td>0</td>\n",
       "      <td>0</td>\n",
       "      <td>0</td>\n",
       "      <td>0</td>\n",
       "    </tr>\n",
       "    <tr>\n",
       "      <th>38124</th>\n",
       "      <td>fuzzy-signal</td>\n",
       "      <td>1600210806</td>\n",
       "      <td>so you object to the swarms of media trying to...</td>\n",
       "      <td>0</td>\n",
       "      <td>68</td>\n",
       "      <td>object swarm medium trying normalize pedophili...</td>\n",
       "      <td>0</td>\n",
       "      <td>9</td>\n",
       "      <td>2123</td>\n",
       "      <td>186</td>\n",
       "      <td>11</td>\n",
       "      <td>26</td>\n",
       "      <td>3</td>\n",
       "      <td>0</td>\n",
       "      <td>4</td>\n",
       "      <td>2</td>\n",
       "    </tr>\n",
       "    <tr>\n",
       "      <th>39193</th>\n",
       "      <td>trevandezz</td>\n",
       "      <td>1600204789</td>\n",
       "      <td>jedidiah fulton, 39 [https://archive.is/gwlyq📁...</td>\n",
       "      <td>0</td>\n",
       "      <td>167</td>\n",
       "      <td>jedidiah fulton alberto vincent acosta kevin c...</td>\n",
       "      <td>0</td>\n",
       "      <td>1</td>\n",
       "      <td>1914</td>\n",
       "      <td>148</td>\n",
       "      <td>40</td>\n",
       "      <td>38</td>\n",
       "      <td>0</td>\n",
       "      <td>0</td>\n",
       "      <td>0</td>\n",
       "      <td>0</td>\n",
       "    </tr>\n",
       "    <tr>\n",
       "      <th>39572</th>\n",
       "      <td>mountainstorm100</td>\n",
       "      <td>1600202949</td>\n",
       "      <td>because of these...  \\n\\n\\nhttps://www.oregonl...</td>\n",
       "      <td>0</td>\n",
       "      <td>11</td>\n",
       "      <td></td>\n",
       "      <td>0</td>\n",
       "      <td>1</td>\n",
       "      <td>1221</td>\n",
       "      <td>14</td>\n",
       "      <td>11</td>\n",
       "      <td>33</td>\n",
       "      <td>0</td>\n",
       "      <td>0</td>\n",
       "      <td>0</td>\n",
       "      <td>1</td>\n",
       "    </tr>\n",
       "    <tr>\n",
       "      <th>39604</th>\n",
       "      <td>mountainstorm100</td>\n",
       "      <td>1600202843</td>\n",
       "      <td>yeah... and check out these links of the downe...</td>\n",
       "      <td>0</td>\n",
       "      <td>16</td>\n",
       "      <td>yeah check link downed tree caused fire</td>\n",
       "      <td>0</td>\n",
       "      <td>1</td>\n",
       "      <td>1277</td>\n",
       "      <td>25</td>\n",
       "      <td>11</td>\n",
       "      <td>33</td>\n",
       "      <td>0</td>\n",
       "      <td>0</td>\n",
       "      <td>0</td>\n",
       "      <td>1</td>\n",
       "    </tr>\n",
       "    <tr>\n",
       "      <th>40636</th>\n",
       "      <td>ShitBirdMcDee</td>\n",
       "      <td>1600198097</td>\n",
       "      <td>what's being ignored?\\n\\narsonists = climate c...</td>\n",
       "      <td>0</td>\n",
       "      <td>267</td>\n",
       "      <td>ignored arsonist = climate change california r...</td>\n",
       "      <td>0</td>\n",
       "      <td>3</td>\n",
       "      <td>3331</td>\n",
       "      <td>169</td>\n",
       "      <td>40</td>\n",
       "      <td>57</td>\n",
       "      <td>1</td>\n",
       "      <td>0</td>\n",
       "      <td>1</td>\n",
       "      <td>0</td>\n",
       "    </tr>\n",
       "    <tr>\n",
       "      <th>41262</th>\n",
       "      <td>dodgydogs</td>\n",
       "      <td>1600195525</td>\n",
       "      <td>if the following isn't proof, then neither are...</td>\n",
       "      <td>0</td>\n",
       "      <td>199</td>\n",
       "      <td>following isnt proof neither flight log known ...</td>\n",
       "      <td>0</td>\n",
       "      <td>7</td>\n",
       "      <td>7316</td>\n",
       "      <td>642</td>\n",
       "      <td>29</td>\n",
       "      <td>115</td>\n",
       "      <td>6</td>\n",
       "      <td>0</td>\n",
       "      <td>10</td>\n",
       "      <td>0</td>\n",
       "    </tr>\n",
       "    <tr>\n",
       "      <th>41610</th>\n",
       "      <td>DeadEndFred</td>\n",
       "      <td>1600193960</td>\n",
       "      <td>media and government never lie.\\n\\n[federal re...</td>\n",
       "      <td>0</td>\n",
       "      <td>68</td>\n",
       "      <td>medium government never lie federal reserve tu...</td>\n",
       "      <td>0</td>\n",
       "      <td>2</td>\n",
       "      <td>1862</td>\n",
       "      <td>49</td>\n",
       "      <td>20</td>\n",
       "      <td>38</td>\n",
       "      <td>0</td>\n",
       "      <td>0</td>\n",
       "      <td>8</td>\n",
       "      <td>0</td>\n",
       "    </tr>\n",
       "  </tbody>\n",
       "</table>\n",
       "</div>"
      ],
      "text/plain": [
       "                     author  created_utc  \\\n",
       "2474        RedeemedVulture   1600297021   \n",
       "2679        RedeemedVulture   1600296405   \n",
       "12077              ro_goose   1600270780   \n",
       "21542           DeadEndFred   1600299022   \n",
       "23250            Asshole411   1600291867   \n",
       "23906           Everythings   1600288866   \n",
       "24423           Everythings   1600286419   \n",
       "24862          Bobby-Vinson   1600284660   \n",
       "25249            Asshole411   1600282952   \n",
       "26147            Asshole411   1600279066   \n",
       "26288            Asshole411   1600278560   \n",
       "26818  ijustwantedtopostthi   1600276491   \n",
       "29097      goldenspirals111   1600268153   \n",
       "29163              Sea_Crew   1600267913   \n",
       "30658        RainbowKillBot   1600261735   \n",
       "32114                DeanG1   1600248677   \n",
       "35869        RainbowKillBot   1600221761   \n",
       "38124          fuzzy-signal   1600210806   \n",
       "39193            trevandezz   1600204789   \n",
       "39572      mountainstorm100   1600202949   \n",
       "39604      mountainstorm100   1600202843   \n",
       "40636         ShitBirdMcDee   1600198097   \n",
       "41262             dodgydogs   1600195525   \n",
       "41610           DeadEndFred   1600193960   \n",
       "\n",
       "                                                    post  subreddit  cl_count  \\\n",
       "2474   i posted this reply for the other guy. it fits...          1       196   \n",
       "2679   are you are defining \"rational\" as agreeing wi...          1       199   \n",
       "12077  wait a minute... you think the defense product...          1       258   \n",
       "21542  exactly. the rockefeller syndicate and their c...          0        85   \n",
       "23250  we all have eyes to see\\n\\nransacked target mi...          0       178   \n",
       "23906   \\n\\na doctor got a shock when in med school h...          0       792   \n",
       "24423  [https://www.reddit.com/r/conspiracy/comments/...          0       194   \n",
       "24862  &gt;“here is wisdom. let him that bath underst...          0       143   \n",
       "25249  &gt;fearing antifa earns you a membership\\nto ...          0       116   \n",
       "26147  blame antifa for other stuff, like violence\\n\\...          0       104   \n",
       "26288  \"the protests are peaceful\"\\n\\n\\n\\n\\n\\n\\nhttps...          0        56   \n",
       "26818  actually, if i recall correctly, it may be mad...          0        51   \n",
       "29097  except this time there are witnesses, videos, ...          0       164   \n",
       "29163  man this sub is so anti-semitic.\\n \\nlet me ed...          0       102   \n",
       "30658  directly clicking these links don't work here ...          0       164   \n",
       "32114  (i’ve put all below in a separate post also)\\n...          0       402   \n",
       "35869  jedidiah fulton, 39 [https://archive.is/gwlyq]...          0       162   \n",
       "38124  so you object to the swarms of media trying to...          0        68   \n",
       "39193  jedidiah fulton, 39 [https://archive.is/gwlyq📁...          0       167   \n",
       "39572  because of these...  \\n\\n\\nhttps://www.oregonl...          0        11   \n",
       "39604  yeah... and check out these links of the downe...          0        16   \n",
       "40636  what's being ignored?\\n\\narsonists = climate c...          0       267   \n",
       "41262  if the following isn't proof, then neither are...          0       199   \n",
       "41610  media and government never lie.\\n\\n[federal re...          0        68   \n",
       "\n",
       "                                                filtered  exc_count  qm_count  \\\n",
       "2474   posted reply guy fit question everyone faith b...          0         3   \n",
       "2679   defining rational agreeing course bible writte...          0         4   \n",
       "12077  wait minute think defense production act invok...          0         6   \n",
       "21542  exactly rockefeller syndicate cohort place cia...          0         2   \n",
       "23250  eye see ransacked target minneapolis building ...          0        10   \n",
       "23906  doctor got shock med school read study mask we...          0        17   \n",
       "24423  amp #x b amp #x b norwegian institute public h...          0        26   \n",
       "24862  wisdom let bath understanding count number bea...          0         1   \n",
       "25249  fearing antifa earns membership short bus seat...          0        16   \n",
       "26147  blame antifa stuff like violence msnbc reporte...          1        28   \n",
       "26288  protest peaceful man stomped stoned trying def...          0         0   \n",
       "26818  actually recall correctly may made toxic mater...          0         0   \n",
       "29097  except time witness video arrest showing arson...          0         1   \n",
       "29163  man sub anti-semitic let educate people colleg...          0         0   \n",
       "30658  directly clicking link dont work reason copy p...          0         1   \n",
       "32114  put separate post also continuation th october...          0         2   \n",
       "35869  jedidiah fulton alberto vincent acosta kevin c...          0         1   \n",
       "38124  object swarm medium trying normalize pedophili...          0         9   \n",
       "39193  jedidiah fulton alberto vincent acosta kevin c...          0         1   \n",
       "39572                                                             0         1   \n",
       "39604            yeah check link downed tree caused fire          0         1   \n",
       "40636  ignored arsonist = climate change california r...          0         3   \n",
       "41262  following isnt proof neither flight log known ...          0         7   \n",
       "41610  medium government never lie federal reserve tu...          0         2   \n",
       "\n",
       "       char_count  word_count  url_count  number_count  apos_s_count  \\\n",
       "2474         4481         516         20            33             3   \n",
       "2679         4639         548         20            33             3   \n",
       "12077        5792         558         25            81             6   \n",
       "21542        2331          89         22            43             0   \n",
       "23250        3596         281         55            83             0   \n",
       "23906        7003         681         17           255             0   \n",
       "24423        8261         716         15            94             1   \n",
       "24862        2906         283         13            23             0   \n",
       "25249        5313         514         18            47             1   \n",
       "26147        4831         349         27            58             4   \n",
       "26288        2576         260         37            49             0   \n",
       "26818        4496         557         15            34             1   \n",
       "29097        1974         141         41            37             0   \n",
       "29163        4922         592         17            23             2   \n",
       "30658        1838         141         40            38             0   \n",
       "32114        5469         864         18           177             0   \n",
       "35869        1747         126         40            38             0   \n",
       "38124        2123         186         11            26             3   \n",
       "39193        1914         148         40            38             0   \n",
       "39572        1221          14         11            33             0   \n",
       "39604        1277          25         11            33             0   \n",
       "40636        3331         169         40            57             1   \n",
       "41262        7316         642         29           115             6   \n",
       "41610        1862          49         20            38             0   \n",
       "\n",
       "       elongated_vowels  q_word_count  percent_count  \n",
       "2474                  0             9              1  \n",
       "2679                  0             9              1  \n",
       "12077                 0             6              0  \n",
       "21542                 0             8              0  \n",
       "23250                 0             1              0  \n",
       "23906                 0             3              4  \n",
       "24423                 0             6              0  \n",
       "24862                 7             3              0  \n",
       "25249                 0             3              1  \n",
       "26147                 0             2              0  \n",
       "26288                 0             2              0  \n",
       "26818                 0             7              2  \n",
       "29097                 0             1              0  \n",
       "29163                 0            12              1  \n",
       "30658                 0             0              0  \n",
       "32114                 0             9              0  \n",
       "35869                 0             0              0  \n",
       "38124                 0             4              2  \n",
       "39193                 0             0              0  \n",
       "39572                 0             0              1  \n",
       "39604                 0             0              1  \n",
       "40636                 0             1              0  \n",
       "41262                 0            10              0  \n",
       "41610                 0             8              0  "
      ]
     },
     "execution_count": 61,
     "metadata": {},
     "output_type": "execute_result"
    }
   ],
   "source": [
    "df[df['url_count'] > 10]\n",
    "# looking to see what posts with over 10 urls look like: mostly from conspiracy subreddit"
   ]
  },
  {
   "cell_type": "code",
   "execution_count": 62,
   "metadata": {},
   "outputs": [
    {
     "data": {
      "text/plain": [
       "subreddit\n",
       "0    0.119698\n",
       "1    0.049466\n",
       "Name: url_count, dtype: float64"
      ]
     },
     "execution_count": 62,
     "metadata": {},
     "output_type": "execute_result"
    }
   ],
   "source": [
    "df.groupby('subreddit')['url_count'].mean()"
   ]
  },
  {
   "cell_type": "code",
   "execution_count": 63,
   "metadata": {},
   "outputs": [
    {
     "name": "stderr",
     "output_type": "stream",
     "text": [
      "C:\\Users\\Athos\\Anaconda3\\lib\\site-packages\\seaborn\\distributions.py:369: UserWarning: Default bandwidth for data is 0; skipping density estimation.\n",
      "  warnings.warn(msg, UserWarning)\n"
     ]
    },
    {
     "data": {
      "text/plain": [
       "<matplotlib.axes._subplots.AxesSubplot at 0x22c2b09d3a0>"
      ]
     },
     "execution_count": 63,
     "metadata": {},
     "output_type": "execute_result"
    },
    {
     "data": {
      "image/png": "[encoded data removed]",
      "text/plain": [
       "<Figure size 432x288 with 1 Axes>"
      ]
     },
     "metadata": {
      "needs_background": "light"
     },
     "output_type": "display_data"
    }
   ],
   "source": [
    "sns.distplot(df.apos_s_count)"
   ]
  },
  {
   "cell_type": "code",
   "execution_count": 64,
   "metadata": {},
   "outputs": [
    {
     "data": {
      "text/plain": [
       "count    42881.000000\n",
       "mean         0.268254\n",
       "std          0.732910\n",
       "min          0.000000\n",
       "25%          0.000000\n",
       "50%          0.000000\n",
       "75%          0.000000\n",
       "max         26.000000\n",
       "Name: apos_s_count, dtype: float64"
      ]
     },
     "execution_count": 64,
     "metadata": {},
     "output_type": "execute_result"
    }
   ],
   "source": [
    "df.apos_s_count.describe()"
   ]
  },
  {
   "cell_type": "code",
   "execution_count": 65,
   "metadata": {},
   "outputs": [
    {
     "data": {
      "text/plain": [
       "count    42881.000000\n",
       "mean         0.007346\n",
       "std          0.106755\n",
       "min          0.000000\n",
       "25%          0.000000\n",
       "50%          0.000000\n",
       "75%          0.000000\n",
       "max          7.000000\n",
       "Name: elongated_vowels, dtype: float64"
      ]
     },
     "execution_count": 65,
     "metadata": {},
     "output_type": "execute_result"
    }
   ],
   "source": [
    "df.elongated_vowels.describe()"
   ]
  },
  {
   "cell_type": "code",
   "execution_count": 66,
   "metadata": {},
   "outputs": [
    {
     "name": "stderr",
     "output_type": "stream",
     "text": [
      "C:\\Users\\Athos\\Anaconda3\\lib\\site-packages\\seaborn\\distributions.py:369: UserWarning: Default bandwidth for data is 0; skipping density estimation.\n",
      "  warnings.warn(msg, UserWarning)\n"
     ]
    },
    {
     "data": {
      "text/plain": [
       "<matplotlib.axes._subplots.AxesSubplot at 0x22c21491910>"
      ]
     },
     "execution_count": 66,
     "metadata": {},
     "output_type": "execute_result"
    },
    {
     "data": {
      "image/png": "[encoded data removed]",
      "text/plain": [
       "<Figure size 432x288 with 1 Axes>"
      ]
     },
     "metadata": {
      "needs_background": "light"
     },
     "output_type": "display_data"
    }
   ],
   "source": [
    "sns.distplot(df.percent_count)"
   ]
  },
  {
   "cell_type": "code",
   "execution_count": 67,
   "metadata": {},
   "outputs": [
    {
     "data": {
      "text/plain": [
       "<matplotlib.axes._subplots.AxesSubplot at 0x22c21447970>"
      ]
     },
     "execution_count": 67,
     "metadata": {},
     "output_type": "execute_result"
    },
    {
     "data": {
      "image/png": "[encoded data removed]",
      "text/plain": [
       "<Figure size 432x288 with 1 Axes>"
      ]
     },
     "metadata": {
      "needs_background": "light"
     },
     "output_type": "display_data"
    }
   ],
   "source": [
    "sns.distplot(df.q_word_count)"
   ]
  },
  {
   "cell_type": "code",
   "execution_count": 68,
   "metadata": {},
   "outputs": [
    {
     "name": "stderr",
     "output_type": "stream",
     "text": [
      "C:\\Users\\Athos\\Anaconda3\\lib\\site-packages\\seaborn\\distributions.py:369: UserWarning: Default bandwidth for data is 0; skipping density estimation.\n",
      "  warnings.warn(msg, UserWarning)\n"
     ]
    },
    {
     "data": {
      "image/png": "[encoded data removed]",
      "text/plain": [
       "<Figure size 432x288 with 1 Axes>"
      ]
     },
     "metadata": {
      "needs_background": "light"
     },
     "output_type": "display_data"
    }
   ],
   "source": [
    "sns.distplot(df.number_count, bins=80);"
   ]
  },
  {
   "cell_type": "markdown",
   "metadata": {},
   "source": [
    "Below I want to check if double letters are more frequently words with meaning or exageratively elongated vowels. These were eventually removed in the data processing function towards the top of this notebook."
   ]
  },
  {
   "cell_type": "code",
   "execution_count": 69,
   "metadata": {},
   "outputs": [
    {
     "data": {
      "text/plain": [
       "['was he named joseph mengele ii ?',\n",
       " \"dude i'm not even american, and america has been going down hill way before the 80's more like 60's/70's there post wwii socioeconomic models fail to bring them up to date with the late 20th century globalization.\",\n",
       " 'what you say is true, but maybe the \"myth\" of a \"clean germany\" is mostly about recognizing the effort and success germany has made in de-natification, especially given how recent wwii relatively is. it also draws a comparison to the begrudging and slow pace at which the u.s has dealt with its social problems.']"
      ]
     },
     "execution_count": 69,
     "metadata": {},
     "output_type": "execute_result"
    }
   ],
   "source": [
    "[i for i in df[df.filtered.str.contains(\"aa+|ii+\") == True]['post']][3:6]"
   ]
  },
  {
   "cell_type": "code",
   "execution_count": 70,
   "metadata": {},
   "outputs": [
    {
     "data": {
      "text/html": [
       "<div>\n",
       "<style scoped>\n",
       "    .dataframe tbody tr th:only-of-type {\n",
       "        vertical-align: middle;\n",
       "    }\n",
       "\n",
       "    .dataframe tbody tr th {\n",
       "        vertical-align: top;\n",
       "    }\n",
       "\n",
       "    .dataframe thead th {\n",
       "        text-align: right;\n",
       "    }\n",
       "</style>\n",
       "<table border=\"1\" class=\"dataframe\">\n",
       "  <thead>\n",
       "    <tr style=\"text-align: right;\">\n",
       "      <th></th>\n",
       "      <th>author</th>\n",
       "      <th>created_utc</th>\n",
       "      <th>post</th>\n",
       "      <th>subreddit</th>\n",
       "      <th>cl_count</th>\n",
       "      <th>filtered</th>\n",
       "      <th>exc_count</th>\n",
       "      <th>qm_count</th>\n",
       "      <th>char_count</th>\n",
       "      <th>word_count</th>\n",
       "      <th>url_count</th>\n",
       "      <th>number_count</th>\n",
       "      <th>apos_s_count</th>\n",
       "      <th>elongated_vowels</th>\n",
       "      <th>q_word_count</th>\n",
       "      <th>percent_count</th>\n",
       "    </tr>\n",
       "  </thead>\n",
       "  <tbody>\n",
       "    <tr>\n",
       "      <th>0</th>\n",
       "      <td>egalroc</td>\n",
       "      <td>1600303999</td>\n",
       "      <td>at this point all trump supporters are russian...</td>\n",
       "      <td>1</td>\n",
       "      <td>5</td>\n",
       "      <td>point trump supporter russian asset also youre...</td>\n",
       "      <td>0</td>\n",
       "      <td>0</td>\n",
       "      <td>131</td>\n",
       "      <td>23</td>\n",
       "      <td>0</td>\n",
       "      <td>0</td>\n",
       "      <td>0</td>\n",
       "      <td>0</td>\n",
       "      <td>0</td>\n",
       "      <td>0</td>\n",
       "    </tr>\n",
       "    <tr>\n",
       "      <th>1</th>\n",
       "      <td>Crooked16th</td>\n",
       "      <td>1600303997</td>\n",
       "      <td>https://www.theguardian.com/world/2020/sep/15/...</td>\n",
       "      <td>1</td>\n",
       "      <td>0</td>\n",
       "      <td>go dip shit</td>\n",
       "      <td>0</td>\n",
       "      <td>0</td>\n",
       "      <td>126</td>\n",
       "      <td>6</td>\n",
       "      <td>1</td>\n",
       "      <td>3</td>\n",
       "      <td>0</td>\n",
       "      <td>0</td>\n",
       "      <td>0</td>\n",
       "      <td>0</td>\n",
       "    </tr>\n",
       "    <tr>\n",
       "      <th>2</th>\n",
       "      <td>Kinolee</td>\n",
       "      <td>1600303996</td>\n",
       "      <td>&amp;gt; the people getting clean\\n\\nmost likely n...</td>\n",
       "      <td>1</td>\n",
       "      <td>4</td>\n",
       "      <td>people getting clean likely kind rehab conside...</td>\n",
       "      <td>0</td>\n",
       "      <td>0</td>\n",
       "      <td>178</td>\n",
       "      <td>31</td>\n",
       "      <td>0</td>\n",
       "      <td>0</td>\n",
       "      <td>0</td>\n",
       "      <td>0</td>\n",
       "      <td>0</td>\n",
       "      <td>0</td>\n",
       "    </tr>\n",
       "    <tr>\n",
       "      <th>3</th>\n",
       "      <td>cakevictim</td>\n",
       "      <td>1600303996</td>\n",
       "      <td>this is definitely not the time to have that t...</td>\n",
       "      <td>1</td>\n",
       "      <td>1</td>\n",
       "      <td>definitely time traditional wedding</td>\n",
       "      <td>0</td>\n",
       "      <td>0</td>\n",
       "      <td>65</td>\n",
       "      <td>11</td>\n",
       "      <td>0</td>\n",
       "      <td>0</td>\n",
       "      <td>0</td>\n",
       "      <td>0</td>\n",
       "      <td>0</td>\n",
       "      <td>0</td>\n",
       "    </tr>\n",
       "    <tr>\n",
       "      <th>4</th>\n",
       "      <td>oooortclouuud</td>\n",
       "      <td>1600303991</td>\n",
       "      <td>once in the title, once in the article. your s...</td>\n",
       "      <td>1</td>\n",
       "      <td>0</td>\n",
       "      <td>title article statement wildly exaggerated</td>\n",
       "      <td>0</td>\n",
       "      <td>0</td>\n",
       "      <td>77</td>\n",
       "      <td>13</td>\n",
       "      <td>0</td>\n",
       "      <td>0</td>\n",
       "      <td>0</td>\n",
       "      <td>0</td>\n",
       "      <td>0</td>\n",
       "      <td>0</td>\n",
       "    </tr>\n",
       "  </tbody>\n",
       "</table>\n",
       "</div>"
      ],
      "text/plain": [
       "          author  created_utc  \\\n",
       "0        egalroc   1600303999   \n",
       "1    Crooked16th   1600303997   \n",
       "2        Kinolee   1600303996   \n",
       "3     cakevictim   1600303996   \n",
       "4  oooortclouuud   1600303991   \n",
       "\n",
       "                                                post  subreddit  cl_count  \\\n",
       "0  at this point all trump supporters are russian...          1         5   \n",
       "1  https://www.theguardian.com/world/2020/sep/15/...          1         0   \n",
       "2  &gt; the people getting clean\\n\\nmost likely n...          1         4   \n",
       "3  this is definitely not the time to have that t...          1         1   \n",
       "4  once in the title, once in the article. your s...          1         0   \n",
       "\n",
       "                                            filtered  exc_count  qm_count  \\\n",
       "0  point trump supporter russian asset also youre...          0         0   \n",
       "1                                        go dip shit          0         0   \n",
       "2  people getting clean likely kind rehab conside...          0         0   \n",
       "3                definitely time traditional wedding          0         0   \n",
       "4         title article statement wildly exaggerated          0         0   \n",
       "\n",
       "   char_count  word_count  url_count  number_count  apos_s_count  \\\n",
       "0         131          23          0             0             0   \n",
       "1         126           6          1             3             0   \n",
       "2         178          31          0             0             0   \n",
       "3          65          11          0             0             0   \n",
       "4          77          13          0             0             0   \n",
       "\n",
       "   elongated_vowels  q_word_count  percent_count  \n",
       "0                 0             0              0  \n",
       "1                 0             0              0  \n",
       "2                 0             0              0  \n",
       "3                 0             0              0  \n",
       "4                 0             0              0  "
      ]
     },
     "execution_count": 70,
     "metadata": {},
     "output_type": "execute_result"
    }
   ],
   "source": [
    "df.head()"
   ]
  },
  {
   "cell_type": "code",
   "execution_count": 71,
   "metadata": {},
   "outputs": [
    {
     "data": {
      "image/png": "[encoded data removed]",
      "text/plain": [
       "<Figure size 1080x720 with 2 Axes>"
      ]
     },
     "metadata": {
      "needs_background": "light"
     },
     "output_type": "display_data"
    }
   ],
   "source": [
    "df_corr = df[features].corr()\n",
    "plt.figure(figsize=(15,10))\n",
    "sns.heatmap(df_corr[np.abs(df_corr)>.3], annot=True, cmap='coolwarm');"
   ]
  },
  {
   "cell_type": "code",
   "execution_count": 72,
   "metadata": {},
   "outputs": [
    {
     "data": {
      "text/plain": [
       "diazepam             1\n",
       "pheonix              1\n",
       "phenotype            1\n",
       "evenin               1\n",
       "phenomenally         1\n",
       "phasing              1\n",
       "eventhoughtheyget    1\n",
       "evasive              1\n",
       "eventual             1\n",
       "pharmaseuticals      1\n",
       "dtype: int64"
      ]
     },
     "execution_count": 72,
     "metadata": {},
     "output_type": "execute_result"
    }
   ],
   "source": [
    "news.sum(axis=0).sort_values(ascending=True)[0:10]"
   ]
  },
  {
   "cell_type": "code",
   "execution_count": 73,
   "metadata": {},
   "outputs": [
    {
     "data": {
      "image/png": "[encoded data removed]",
      "text/plain": [
       "<Figure size 1080x720 with 1 Axes>"
      ]
     },
     "metadata": {
      "needs_background": "light"
     },
     "output_type": "display_data"
    }
   ],
   "source": [
    "plt.figure(figsize=(15,10))\n",
    "(news.sum(axis=0).sort_values(ascending=False)[0:10]).plot(kind='bar').set_title('top ten words in r/news');"
   ]
  },
  {
   "cell_type": "code",
   "execution_count": 74,
   "metadata": {},
   "outputs": [
    {
     "data": {
      "text/plain": [
       "zygeist      1\n",
       "gooding      1\n",
       "seeked       1\n",
       "goodnight    1\n",
       "goodwill     1\n",
       "goody        1\n",
       "seedy        1\n",
       "goofball     1\n",
       "seeded       1\n",
       "googleing    1\n",
       "dtype: int64"
      ]
     },
     "execution_count": 74,
     "metadata": {},
     "output_type": "execute_result"
    }
   ],
   "source": [
    "consp.sum(axis=0).sort_values(ascending=True)[0:10]"
   ]
  },
  {
   "cell_type": "code",
   "execution_count": 75,
   "metadata": {},
   "outputs": [
    {
     "data": {
      "image/png": "[encoded data removed]",
      "text/plain": [
       "<Figure size 1080x720 with 1 Axes>"
      ]
     },
     "metadata": {
      "needs_background": "light"
     },
     "output_type": "display_data"
    }
   ],
   "source": [
    "plt.figure(figsize=(15,10))\n",
    "(consp.sum(axis=0).sort_values(ascending=False)[0:10]).plot(kind='bar').set_title('top ten words in r/conspiracy');"
   ]
  },
  {
   "cell_type": "markdown",
   "metadata": {},
   "source": [
    "<h1>Decision Tree Models</h1>"
   ]
  },
  {
   "cell_type": "markdown",
   "metadata": {},
   "source": [
    "I will attempt some different models to see if I achieve better results and can fight overfitting"
   ]
  },
  {
   "cell_type": "code",
   "execution_count": 76,
   "metadata": {},
   "outputs": [
    {
     "name": "stdout",
     "output_type": "stream",
     "text": [
      "Fitting 5 folds for each of 6 candidates, totalling 30 fits\n"
     ]
    },
    {
     "name": "stderr",
     "output_type": "stream",
     "text": [
      "[Parallel(n_jobs=-1)]: Using backend LokyBackend with 8 concurrent workers.\n",
      "[Parallel(n_jobs=-1)]: Done  30 out of  30 | elapsed: 41.9min finished\n"
     ]
    },
    {
     "data": {
      "text/plain": [
       "GridSearchCV(cv=5, estimator=DecisionTreeClassifier(), n_jobs=-1,\n",
       "             param_grid={'ccp_alpha': [0, 0.001, 0.01, 0.1, 1, 10],\n",
       "                         'max_depth': [None]},\n",
       "             verbose=1)"
      ]
     },
     "execution_count": 76,
     "metadata": {},
     "output_type": "execute_result"
    }
   ],
   "source": [
    "X = df['filtered']\n",
    "y = df['subreddit']\n",
    "X_train, X_test, y_train, y_test = train_test_split(X, y, stratify=y, random_state=42)\n",
    "vectorizer = TfidfVectorizer(analyzer = \"word\", ngram_range=(1,3), stop_words=None, max_df=0.15)\n",
    "X_train = vectorizer.fit_transform(X_train)\n",
    "X_test = vectorizer.transform(X_test)\n",
    "\n",
    "grid = GridSearchCV(estimator = DecisionTreeClassifier(),\n",
    "                    param_grid = {'max_depth': [None],\n",
    "                                  'ccp_alpha': [0, 0.001, 0.01, 0.1, 1, 10]},\n",
    "                    cv = 5,\n",
    "                    n_jobs=-1,\n",
    "                    verbose = 1)\n",
    "grid.fit(X_train, y_train)"
   ]
  },
  {
   "cell_type": "code",
   "execution_count": 77,
   "metadata": {},
   "outputs": [
    {
     "data": {
      "text/plain": [
       "0.9946517412935323"
      ]
     },
     "execution_count": 77,
     "metadata": {},
     "output_type": "execute_result"
    }
   ],
   "source": [
    "grid.score(X_train, y_train)"
   ]
  },
  {
   "cell_type": "code",
   "execution_count": 78,
   "metadata": {},
   "outputs": [
    {
     "data": {
      "text/plain": [
       "0.6226098311724653"
      ]
     },
     "execution_count": 78,
     "metadata": {},
     "output_type": "execute_result"
    }
   ],
   "source": [
    "grid.score(X_test, y_test)"
   ]
  },
  {
   "cell_type": "code",
   "execution_count": 79,
   "metadata": {},
   "outputs": [
    {
     "data": {
      "text/plain": [
       "0.6393034825870647"
      ]
     },
     "execution_count": 79,
     "metadata": {},
     "output_type": "execute_result"
    }
   ],
   "source": [
    "grid.best_score_"
   ]
  },
  {
   "cell_type": "code",
   "execution_count": 80,
   "metadata": {},
   "outputs": [
    {
     "data": {
      "text/plain": [
       "{'ccp_alpha': 0, 'max_depth': None}"
      ]
     },
     "execution_count": 80,
     "metadata": {},
     "output_type": "execute_result"
    }
   ],
   "source": [
    "grid.best_params_"
   ]
  },
  {
   "cell_type": "markdown",
   "metadata": {},
   "source": [
    "<h3>Decision Tree</h3>"
   ]
  },
  {
   "cell_type": "code",
   "execution_count": 81,
   "metadata": {},
   "outputs": [
    {
     "data": {
      "text/plain": [
       "0.9946517412935323"
      ]
     },
     "execution_count": 81,
     "metadata": {},
     "output_type": "execute_result"
    }
   ],
   "source": [
    "tree = DecisionTreeClassifier()\n",
    "tree.fit(X_train, y_train)\n",
    "tree.score(X_train, y_train)"
   ]
  },
  {
   "cell_type": "code",
   "execution_count": 82,
   "metadata": {},
   "outputs": [
    {
     "data": {
      "text/plain": [
       "0.6202779591456021"
      ]
     },
     "execution_count": 82,
     "metadata": {},
     "output_type": "execute_result"
    }
   ],
   "source": [
    "tree.score(X_test, y_test)"
   ]
  },
  {
   "cell_type": "markdown",
   "metadata": {},
   "source": [
    "<h3>Random Forest</h3>"
   ]
  },
  {
   "cell_type": "code",
   "execution_count": 83,
   "metadata": {},
   "outputs": [
    {
     "data": {
      "text/plain": [
       "0.9946517412935323"
      ]
     },
     "execution_count": 83,
     "metadata": {},
     "output_type": "execute_result"
    }
   ],
   "source": [
    "X = df['filtered']\n",
    "y = df['subreddit']\n",
    "X_train, X_test, y_train, y_test = train_test_split(X, y, stratify=y, random_state=42)\n",
    "vectorizer = TfidfVectorizer(analyzer = \"word\", ngram_range=(1,3), stop_words=None, max_df=0.15)\n",
    "X_train = vectorizer.fit_transform(X_train)\n",
    "X_test = vectorizer.transform(X_test)\n",
    "\n",
    "forest = RandomForestClassifier(n_jobs=-1)\n",
    "forest.fit(X_train, y_train)\n",
    "forest.score(X_train, y_train)"
   ]
  },
  {
   "cell_type": "code",
   "execution_count": 84,
   "metadata": {},
   "outputs": [
    {
     "data": {
      "text/plain": [
       "0.6998414327021732"
      ]
     },
     "execution_count": 84,
     "metadata": {},
     "output_type": "execute_result"
    }
   ],
   "source": [
    "forest.score(X_test, y_test)"
   ]
  },
  {
   "cell_type": "markdown",
   "metadata": {},
   "source": [
    "<h2>SVM Model</h2>"
   ]
  },
  {
   "cell_type": "markdown",
   "metadata": {},
   "source": [
    "without engineered features"
   ]
  },
  {
   "cell_type": "code",
   "execution_count": 85,
   "metadata": {},
   "outputs": [
    {
     "name": "stdout",
     "output_type": "stream",
     "text": [
      "Train score: 0.9940083237657864\n",
      "Test score: 0.7369578253048171\n"
     ]
    }
   ],
   "source": [
    "X = df['filtered']\n",
    "y = df['subreddit']\n",
    "X_train, X_test, y_train, y_test = train_test_split(X, y, test_size=0.35, stratify=y, random_state=42)\n",
    "vectorizer = TfidfVectorizer(analyzer = \"word\", ngram_range=(1,3), stop_words=None, max_df=0.15)\n",
    "X_train = vectorizer.fit_transform(X_train)\n",
    "X_test = vectorizer.transform(X_test)\n",
    "\n",
    "lsvc = LinearSVC(max_iter=5000)\n",
    "lsvc.fit(X_train, y_train)\n",
    "\n",
    "print(f'Train score: {lsvc.score(X_train, y_train)}')\n",
    "print(f'Test score: {lsvc.score(X_test, y_test)}')"
   ]
  },
  {
   "cell_type": "markdown",
   "metadata": {},
   "source": [
    "with engineered features"
   ]
  },
  {
   "cell_type": "code",
   "execution_count": 86,
   "metadata": {},
   "outputs": [
    {
     "name": "stdout",
     "output_type": "stream",
     "text": [
      "Train score: 0.8470866819747417\n",
      "Test score: 0.6688653474581917\n"
     ]
    },
    {
     "name": "stderr",
     "output_type": "stream",
     "text": [
      "C:\\Users\\Athos\\Anaconda3\\lib\\site-packages\\sklearn\\svm\\_base.py:976: ConvergenceWarning: Liblinear failed to converge, increase the number of iterations.\n",
      "  warnings.warn(\"Liblinear failed to converge, increase \"\n"
     ]
    }
   ],
   "source": [
    "X = df[features]\n",
    "y = df['subreddit']\n",
    "X_train, X_test, y_train, y_test = train_test_split(X, y, test_size=0.35, stratify=y, random_state=42)\n",
    "vectorizer = TfidfVectorizer(analyzer = \"word\", ngram_range=(1,3), stop_words=None, max_df=0.15)\n",
    "X_train_words = vectorizer.fit_transform(X_train['filtered'])\n",
    "X_test_words = vectorizer.transform(X_test['filtered'])\n",
    "\n",
    "train_num_feats = X_train[num_features].values\n",
    "test_num_feats = X_test[num_features].values\n",
    "\n",
    "X_train = sparse.hstack((X_train_words, train_num_feats))\n",
    "X_test = sparse.hstack((X_test_words, test_num_feats))\n",
    "\n",
    "lsvc = LinearSVC(max_iter=5000)\n",
    "\n",
    "lsvc.fit(X_train, y_train)\n",
    "\n",
    "print(f'Train score: {lsvc.score(X_train, y_train)}')\n",
    "print(f'Test score: {lsvc.score(X_test, y_test)}')"
   ]
  },
  {
   "cell_type": "markdown",
   "metadata": {},
   "source": [
    "<h2>Second best model overall</h2>"
   ]
  },
  {
   "cell_type": "markdown",
   "metadata": {},
   "source": [
    "with log(engineered features)"
   ]
  },
  {
   "cell_type": "code",
   "execution_count": 66,
   "metadata": {},
   "outputs": [
    {
     "name": "stdout",
     "output_type": "stream",
     "text": [
      "Train score: 0.9938648105625718\n",
      "Test score: 0.7419548271037377\n"
     ]
    }
   ],
   "source": [
    "X = df[features]\n",
    "y = df['subreddit']\n",
    "X_train, X_test, y_train, y_test = train_test_split(X, y, test_size=0.35, stratify=y, random_state=42)\n",
    "vectorizer = TfidfVectorizer(analyzer = \"word\", ngram_range=(1,3), stop_words=None, max_df=0.15)\n",
    "X_train_words = vectorizer.fit_transform(X_train['filtered'])\n",
    "X_test_words = vectorizer.transform(X_test['filtered'])\n",
    "\n",
    "ss = StandardScaler()\n",
    "train_num_feats = np.log1p(X_train[num_features].values)\n",
    "test_num_feats = np.log1p(X_test[num_features].values)\n",
    "\n",
    "X_train = sparse.hstack((X_train_words, train_num_feats))\n",
    "X_test = sparse.hstack((X_test_words, test_num_feats))\n",
    "\n",
    "lsvc = LinearSVC(max_iter=5000)\n",
    "\n",
    "lsvc.fit(X_train, y_train)\n",
    "\n",
    "print(f'Train score: {lsvc.score(X_train, y_train)}')\n",
    "print(f'Test score: {lsvc.score(X_test, y_test)}')"
   ]
  },
  {
   "cell_type": "code",
   "execution_count": 79,
   "metadata": {},
   "outputs": [],
   "source": [
    "words = [i for i in vectorizer.get_feature_names()]"
   ]
  },
  {
   "cell_type": "code",
   "execution_count": 80,
   "metadata": {},
   "outputs": [],
   "source": [
    "feature_names = num_features + words"
   ]
  },
  {
   "cell_type": "code",
   "execution_count": 95,
   "metadata": {},
   "outputs": [],
   "source": [
    "coef = [i for i in lsvc.coef_[0]]"
   ]
  },
  {
   "cell_type": "markdown",
   "metadata": {},
   "source": [
    "feature importance"
   ]
  },
  {
   "cell_type": "code",
   "execution_count": 1,
   "metadata": {},
   "outputs": [],
   "source": [
    "def feature_importance(coef, names):\n",
    "    imp = coef\n",
    "    zipp = zip(*sorted(zip(imp,names), reverse=False))\n",
    "    return set(zipp)\n",
    "\n",
    "# feature_importance(coef, feature_names)"
   ]
  },
  {
   "cell_type": "code",
   "execution_count": 30,
   "metadata": {},
   "outputs": [
    {
     "data": {
      "text/plain": [
       "GridSearchCV(estimator=LinearSVC(max_iter=5000), n_jobs=-1,\n",
       "             param_grid={'C': array([ 1. ,  5.5, 10. ])})"
      ]
     },
     "execution_count": 30,
     "metadata": {},
     "output_type": "execute_result"
    }
   ],
   "source": [
    "X = df[features]\n",
    "y = df['subreddit']\n",
    "X_train, X_test, y_train, y_test = train_test_split(X, y, test_size=0.35, stratify=y, random_state=42)\n",
    "vectorizer = TfidfVectorizer(analyzer = \"word\", ngram_range=(1,3), stop_words=None, max_df=0.15)\n",
    "X_train_words = vectorizer.fit_transform(X_train['filtered'])\n",
    "X_test_words = vectorizer.transform(X_test['filtered'])\n",
    "\n",
    "ss = StandardScaler()\n",
    "train_num_feats = np.log1p(X_train[num_features].values)\n",
    "test_num_feats = np.log1p(X_test[num_features].values)\n",
    "\n",
    "X_train = sparse.hstack((X_train_words, train_num_feats))\n",
    "X_test = sparse.hstack((X_test_words, test_num_feats))\n",
    "\n",
    "\n",
    "pgrid = {\"C\": np.linspace(1, 10, 3)}\n",
    "svc = LinearSVC(max_iter=5000)\n",
    "gcv = GridSearchCV(svc, pgrid, n_jobs=-1)\n",
    "gcv.fit(X_train, y_train)"
   ]
  },
  {
   "cell_type": "code",
   "execution_count": 31,
   "metadata": {},
   "outputs": [
    {
     "name": "stdout",
     "output_type": "stream",
     "text": [
      "Best score:  0.7312001428798988\n",
      "best params:  {'C': 1.0}\n"
     ]
    }
   ],
   "source": [
    "print(f'Best score:  {gcv.best_score_}')\n",
    "print(f'best params:  {gcv.best_params_}')"
   ]
  },
  {
   "cell_type": "code",
   "execution_count": 94,
   "metadata": {},
   "outputs": [
    {
     "name": "stdout",
     "output_type": "stream",
     "text": [
      "Train score: 0.9940083237657864\n",
      "Test score: 0.7369578253048171\n"
     ]
    }
   ],
   "source": [
    "X = df['filtered']\n",
    "y = df['subreddit']\n",
    "X_train, X_test, y_train, y_test = train_test_split(X, y, test_size=0.35, stratify=y, random_state=42)\n",
    "vectorizer = TfidfVectorizer(analyzer = \"word\", ngram_range=(1,3), stop_words=None, max_df=0.15)\n",
    "X_train = vectorizer.fit_transform(X_train)\n",
    "X_test = vectorizer.transform(X_test)\n",
    "\n",
    "lsvc2 = LinearSVC(max_iter=5000)\n",
    "\n",
    "lsvc2.fit(X_train, y_train)\n",
    "\n",
    "print(f'Train score: {lsvc2.score(X_train, y_train)}')\n",
    "print(f'Test score: {lsvc2.score(X_test, y_test)}')"
   ]
  },
  {
   "cell_type": "code",
   "execution_count": 88,
   "metadata": {},
   "outputs": [
    {
     "name": "stdout",
     "output_type": "stream",
     "text": [
      "Train score: 0.995264064293915\n",
      "Test score: 0.7400226530748217\n"
     ]
    }
   ],
   "source": [
    "svc = SVC(C=100, kernel='rbf')\n",
    "svc.fit(X_train, y_train)\n",
    "\n",
    "print(f'Train score: {svc.score(X_train, y_train)}')\n",
    "print(f'Test score: {svc.score(X_test, y_test)}')"
   ]
  },
  {
   "cell_type": "code",
   "execution_count": 89,
   "metadata": {},
   "outputs": [
    {
     "data": {
      "text/plain": [
       "0.7400226530748217"
      ]
     },
     "execution_count": 89,
     "metadata": {},
     "output_type": "execute_result"
    }
   ],
   "source": [
    "accuracy_score(y_test, svc.predict(X_test))"
   ]
  },
  {
   "cell_type": "code",
   "execution_count": 90,
   "metadata": {},
   "outputs": [
    {
     "name": "stdout",
     "output_type": "stream",
     "text": [
      "Train score: 0.5034443168771527\n",
      "Test score: 0.5014324738490239\n"
     ]
    }
   ],
   "source": [
    "svc = SVC(C=100, kernel='sigmoid')\n",
    "svc.fit(X_train, y_train)\n",
    "\n",
    "print(f'Train score: {svc.score(X_train, y_train)}')\n",
    "print(f'Test score: {svc.score(X_test, y_test)}')"
   ]
  },
  {
   "cell_type": "markdown",
   "metadata": {},
   "source": [
    "<h2>KNN</h2>"
   ]
  },
  {
   "cell_type": "code",
   "execution_count": 93,
   "metadata": {},
   "outputs": [
    {
     "name": "stdout",
     "output_type": "stream",
     "text": [
      "Training score: 0.6184390547263682\n",
      "Testing score: 0.5258837794981811\n"
     ]
    }
   ],
   "source": [
    "X = df['filtered']\n",
    "y = df['subreddit']\n",
    "X_train, X_test, y_train, y_test = train_test_split(X, y, stratify=y, random_state=42)\n",
    "index = [i for i in X_test.index]\n",
    "vectorizer = TfidfVectorizer(analyzer = \"word\", ngram_range=(1,3), stop_words='english', max_df=0.4, norm='l2')\n",
    "X_train = vectorizer.fit_transform(X_train)\n",
    "X_test = vectorizer.transform(X_test)\n",
    "\n",
    "knn = KNeighborsClassifier(n_neighbors=5, n_jobs=-1)\n",
    "knn.fit(X_train, y_train)\n",
    "print(f'Training score: {knn.score(X_train, y_train)}')\n",
    "print(f'Testing score: {knn.score(X_test, y_test)}')"
   ]
  },
  {
   "cell_type": "code",
   "execution_count": null,
   "metadata": {},
   "outputs": [],
   "source": []
  }
 ],
 "metadata": {
  "kernelspec": {
   "display_name": "Python 3",
   "language": "python",
   "name": "python3"
  },
  "language_info": {
   "codemirror_mode": {
    "name": "ipython",
    "version": 3
   },
   "file_extension": ".py",
   "mimetype": "text/x-python",
   "name": "python",
   "nbconvert_exporter": "python",
   "pygments_lexer": "ipython3",
   "version": "3.8.3"
  }
 },
 "nbformat": 4,
 "nbformat_minor": 4
}
